{
  "nbformat": 4,
  "nbformat_minor": 0,
  "metadata": {
    "colab": {
      "name": "process.ipynb",
      "version": "0.3.2",
      "provenance": [],
      "collapsed_sections": [],
      "include_colab_link": true
    }
  },
  "cells": [
    {
      "cell_type": "markdown",
      "metadata": {
        "id": "view-in-github",
        "colab_type": "text"
      },
      "source": [
        "[View in Colaboratory](https://colab.research.google.com/github/gowtham91m/gofundme/blob/master/process.ipynb)"
      ]
    },
    {
      "metadata": {
        "id": "rqxvAK-9ShJK",
        "colab_type": "code",
        "colab": {
          "base_uri": "https://localhost:8080/",
          "height": 84
        },
        "outputId": "90e45556-e424-4ab1-a0b2-94b05b7ca2b8"
      },
      "cell_type": "code",
      "source": [
        "import pandas as pd\n",
        "import re\n",
        "import os\n",
        "import nltk\n",
        "import numpy as np\n",
        "from nltk import word_tokenize\n",
        "nltk.download('stopwords')\n",
        "nltk.download('punkt')\n",
        "from nltk.corpus import stopwords"
      ],
      "execution_count": 51,
      "outputs": [
        {
          "output_type": "stream",
          "text": [
            "[nltk_data] Downloading package stopwords to /root/nltk_data...\n",
            "[nltk_data]   Package stopwords is already up-to-date!\n",
            "[nltk_data] Downloading package punkt to /root/nltk_data...\n",
            "[nltk_data]   Package punkt is already up-to-date!\n"
          ],
          "name": "stdout"
        }
      ]
    },
    {
      "metadata": {
        "id": "I8V4ObD3awO3",
        "colab_type": "code",
        "colab": {}
      },
      "cell_type": "code",
      "source": [
        ""
      ],
      "execution_count": 0,
      "outputs": []
    },
    {
      "metadata": {
        "id": "2sH_y7G3az8f",
        "colab_type": "code",
        "colab": {
          "base_uri": "https://localhost:8080/",
          "height": 218
        },
        "outputId": "ed0a11fa-c216-4458-e21e-9b1882b86cef"
      },
      "cell_type": "code",
      "source": [
        "campaigns = pd.read_csv('https://raw.githubusercontent.com/gowtham91m/gofundme/master/data/campaigns.csv')\n",
        "recent_donation = campaigns['recent_donation_time'].str.split(' ', expand=True).iloc[:,0:2]\n",
        "print(recent_donation.iloc[:,1].unique())\n",
        "\n",
        "# update all rows to month level information, since we don't have day level informaiton after one month.\n",
        "# anyting less than a month is 0 \n",
        "# all the data will be in months, we can retain the numbers alone.\n",
        "recent_donation['months_since_last_donation'] = np.where(~recent_donation.iloc[:,1].isin(['months','month']), 0, recent_donation.iloc[:,0])\n",
        "#ampaigns = campaigns.join(recent_donation['months_since_last_donation'])\n",
        "recent_donation.head()"
      ],
      "execution_count": 47,
      "outputs": [
        {
          "output_type": "stream",
          "text": [
            "['days' 'month' 'day' 'hours' 'months' 'hour' 'mins' 'min']\n"
          ],
          "name": "stdout"
        },
        {
          "output_type": "execute_result",
          "data": {
            "text/html": [
              "<div>\n",
              "<style scoped>\n",
              "    .dataframe tbody tr th:only-of-type {\n",
              "        vertical-align: middle;\n",
              "    }\n",
              "\n",
              "    .dataframe tbody tr th {\n",
              "        vertical-align: top;\n",
              "    }\n",
              "\n",
              "    .dataframe thead th {\n",
              "        text-align: right;\n",
              "    }\n",
              "</style>\n",
              "<table border=\"1\" class=\"dataframe\">\n",
              "  <thead>\n",
              "    <tr style=\"text-align: right;\">\n",
              "      <th></th>\n",
              "      <th>0</th>\n",
              "      <th>1</th>\n",
              "      <th>months_since_last_donation</th>\n",
              "    </tr>\n",
              "  </thead>\n",
              "  <tbody>\n",
              "    <tr>\n",
              "      <th>0</th>\n",
              "      <td>15</td>\n",
              "      <td>days</td>\n",
              "      <td>0</td>\n",
              "    </tr>\n",
              "    <tr>\n",
              "      <th>1</th>\n",
              "      <td>1</td>\n",
              "      <td>month</td>\n",
              "      <td>1</td>\n",
              "    </tr>\n",
              "    <tr>\n",
              "      <th>2</th>\n",
              "      <td>1</td>\n",
              "      <td>day</td>\n",
              "      <td>0</td>\n",
              "    </tr>\n",
              "    <tr>\n",
              "      <th>3</th>\n",
              "      <td>1</td>\n",
              "      <td>month</td>\n",
              "      <td>1</td>\n",
              "    </tr>\n",
              "    <tr>\n",
              "      <th>4</th>\n",
              "      <td>23</td>\n",
              "      <td>hours</td>\n",
              "      <td>0</td>\n",
              "    </tr>\n",
              "  </tbody>\n",
              "</table>\n",
              "</div>"
            ],
            "text/plain": [
              "    0      1 months_since_last_donation\n",
              "0  15   days                          0\n",
              "1   1  month                          1\n",
              "2   1    day                          0\n",
              "3   1  month                          1\n",
              "4  23  hours                          0"
            ]
          },
          "metadata": {
            "tags": []
          },
          "execution_count": 47
        }
      ]
    },
    {
      "metadata": {
        "id": "Pty52eU0a_GX",
        "colab_type": "code",
        "colab": {}
      },
      "cell_type": "code",
      "source": [
        "# same transfromation will be applied to duration and goals_reached_time columns "
      ],
      "execution_count": 0,
      "outputs": []
    },
    {
      "metadata": {
        "id": "kfrHOWrvzfG6",
        "colab_type": "code",
        "colab": {}
      },
      "cell_type": "code",
      "source": [
        ""
      ],
      "execution_count": 0,
      "outputs": []
    },
    {
      "metadata": {
        "id": "8bSo6ZghSt_f",
        "colab_type": "code",
        "colab": {}
      },
      "cell_type": "code",
      "source": [
        "# putting everything together\n",
        "\n",
        "class clean_data():\n",
        "  def __init__(self):\n",
        "    self.text_columns = ['category','title','city','state','text']\n",
        "    self.num_cols_to_clean = ['goal','raised','likes','shares','donation_count']\n",
        "    self.time_cols = ['duration','recent_donation_time','goal_reaeched_time']\n",
        "    \n",
        "  def str_to_num(self,x):\n",
        "      x = re.sub('[,\\$\\.]','',x)\n",
        "      x = re.sub('M','000000',x)\n",
        "      x = re.sub('k','000',x)\n",
        "      return x\n",
        "    \n",
        "  def remove_stop_words(self,x):\n",
        "    stop_words = set(stopwords.words('english'))\n",
        "    x_words = word_tokenize(x)\n",
        "    x_words = [i for i in x_words if not i in stop_words]\n",
        "    return ' '.join(x_words)\n",
        "  \n",
        "  def time_parser(self,x):\n",
        "    x = x.str.split(' ',2, expand=True)\n",
        "    return np.where(~x.iloc[:,1].isin(['months','month']), 0, x.iloc[:,0])\n",
        "\n",
        "  def text_process(self,x):\n",
        "    x = x.lower()\n",
        "    # replace non alpha numerical characters with space character\n",
        "    x = re.sub('[^a-z0-9]',' ',x)\n",
        "    \n",
        "    # replace multiple spaceses with single space \n",
        "    x = re.sub('(  +)', ' ', x)\n",
        "    \n",
        "    # remove stop words\n",
        "    x = self.remove_stop_words(x)\n",
        "    return x\n",
        "  \n",
        "  def process(self,df):\n",
        "    df[self.num_cols_to_clean] = df[self.num_cols_to_clean].applymap(self.str_to_num)\n",
        "    df = df.join(df['location'].str.split(',', 1, expand=True).rename(columns={0:'city', 1:'state'}))\n",
        "    df[self.text_columns] = df[self.text_columns].applymap(self.text_process)\n",
        "    df.drop(['location','href'],inplace=True,axis=1)\n",
        "    \n",
        "    df['start_date'] = pd.to_datetime(df.start_date)\n",
        "    df['script_run_date'] = pd.to_datetime(df.script_run_date)\n",
        "    \n",
        "    # process the time range variables, duration (overa all campaign time), goal_reached_time, recent_donation_time\n",
        "    df[self.time_cols] = df[self.time_cols].apply(self.time_parser)\n",
        "    \n",
        "    return df"
      ],
      "execution_count": 0,
      "outputs": []
    },
    {
      "metadata": {
        "id": "2X5c3os5kV-D",
        "colab_type": "code",
        "colab": {}
      },
      "cell_type": "code",
      "source": [
        "if __name__ == '__main__':\n",
        "  campaigns = pd.read_csv('https://raw.githubusercontent.com/gowtham91m/gofundme/master/data/campaigns.csv')\n",
        "  campaigns = clean_data().process(campaigns)"
      ],
      "execution_count": 0,
      "outputs": []
    },
    {
      "metadata": {
        "id": "lyJy5qKba5uM",
        "colab_type": "code",
        "colab": {
          "base_uri": "https://localhost:8080/",
          "height": 643
        },
        "outputId": "ec5d4e68-ed47-4b11-9a00-8c80e208dec7"
      },
      "cell_type": "code",
      "source": [
        "campaigns.head()"
      ],
      "execution_count": 42,
      "outputs": [
        {
          "output_type": "execute_result",
          "data": {
            "text/html": [
              "<div>\n",
              "<style scoped>\n",
              "    .dataframe tbody tr th:only-of-type {\n",
              "        vertical-align: middle;\n",
              "    }\n",
              "\n",
              "    .dataframe tbody tr th {\n",
              "        vertical-align: top;\n",
              "    }\n",
              "\n",
              "    .dataframe thead th {\n",
              "        text-align: right;\n",
              "    }\n",
              "</style>\n",
              "<table border=\"1\" class=\"dataframe\">\n",
              "  <thead>\n",
              "    <tr style=\"text-align: right;\">\n",
              "      <th></th>\n",
              "      <th>category</th>\n",
              "      <th>page</th>\n",
              "      <th>title</th>\n",
              "      <th>start_date</th>\n",
              "      <th>goal</th>\n",
              "      <th>raised</th>\n",
              "      <th>text</th>\n",
              "      <th>likes</th>\n",
              "      <th>shares</th>\n",
              "      <th>photos</th>\n",
              "      <th>donation_count</th>\n",
              "      <th>duration</th>\n",
              "      <th>recent_donation_time</th>\n",
              "      <th>goal_reaeched_time</th>\n",
              "      <th>script_run_date</th>\n",
              "      <th>city</th>\n",
              "      <th>state</th>\n",
              "    </tr>\n",
              "  </thead>\n",
              "  <tbody>\n",
              "    <tr>\n",
              "      <th>0</th>\n",
              "      <td>medical</td>\n",
              "      <td>1</td>\n",
              "      <td>kdafoos cancer</td>\n",
              "      <td>2018-07-18</td>\n",
              "      <td>500000</td>\n",
              "      <td>676152</td>\n",
              "      <td>vee fighting cancer past 5 years going nowhere...</td>\n",
              "      <td>24000</td>\n",
              "      <td>330</td>\n",
              "      <td>11</td>\n",
              "      <td>2408</td>\n",
              "      <td>1</td>\n",
              "      <td>0</td>\n",
              "      <td>1</td>\n",
              "      <td>2018-08-27</td>\n",
              "      <td>houston</td>\n",
              "      <td>tx</td>\n",
              "    </tr>\n",
              "    <tr>\n",
              "      <th>1</th>\n",
              "      <td>medical</td>\n",
              "      <td>1</td>\n",
              "      <td>92 yr old man brutally attacked</td>\n",
              "      <td>2018-07-06</td>\n",
              "      <td>15000</td>\n",
              "      <td>327345</td>\n",
              "      <td>july 4th around 7pm grandfather rodolfo rodrig...</td>\n",
              "      <td>12000</td>\n",
              "      <td>26000</td>\n",
              "      <td>4</td>\n",
              "      <td>12167</td>\n",
              "      <td>1</td>\n",
              "      <td>1</td>\n",
              "      <td>1</td>\n",
              "      <td>2018-08-27</td>\n",
              "      <td>los angeles</td>\n",
              "      <td>ca</td>\n",
              "    </tr>\n",
              "    <tr>\n",
              "      <th>2</th>\n",
              "      <td>medical</td>\n",
              "      <td>1</td>\n",
              "      <td>olivia stoy transplant liv</td>\n",
              "      <td>2018-05-18</td>\n",
              "      <td>10000000</td>\n",
              "      <td>316376</td>\n",
              "      <td>update many fundraisers put place raise funds ...</td>\n",
              "      <td>57000</td>\n",
              "      <td>12000</td>\n",
              "      <td>44</td>\n",
              "      <td>5601</td>\n",
              "      <td>3</td>\n",
              "      <td>0</td>\n",
              "      <td>3</td>\n",
              "      <td>2018-08-27</td>\n",
              "      <td>ashley</td>\n",
              "      <td></td>\n",
              "    </tr>\n",
              "    <tr>\n",
              "      <th>3</th>\n",
              "      <td>medical</td>\n",
              "      <td>1</td>\n",
              "      <td>autologous cell transplant</td>\n",
              "      <td>2018-06-22</td>\n",
              "      <td>250000</td>\n",
              "      <td>241205</td>\n",
              "      <td>43 year old philip defonte husband father 3 yo...</td>\n",
              "      <td>839</td>\n",
              "      <td>18000</td>\n",
              "      <td>0</td>\n",
              "      <td>843</td>\n",
              "      <td>2</td>\n",
              "      <td>1</td>\n",
              "      <td>0</td>\n",
              "      <td>2018-08-27</td>\n",
              "      <td>staten island</td>\n",
              "      <td>ny</td>\n",
              "    </tr>\n",
              "    <tr>\n",
              "      <th>4</th>\n",
              "      <td>medical</td>\n",
              "      <td>1</td>\n",
              "      <td>claire wineland needs help</td>\n",
              "      <td>2018-06-12</td>\n",
              "      <td>225000</td>\n",
              "      <td>237555</td>\n",
              "      <td>first wow blown away amazing outpouring love s...</td>\n",
              "      <td>90000</td>\n",
              "      <td>65000</td>\n",
              "      <td>200</td>\n",
              "      <td>8432</td>\n",
              "      <td>2</td>\n",
              "      <td>0</td>\n",
              "      <td>1</td>\n",
              "      <td>2018-08-27</td>\n",
              "      <td>garden grove</td>\n",
              "      <td>ca</td>\n",
              "    </tr>\n",
              "  </tbody>\n",
              "</table>\n",
              "</div>"
            ],
            "text/plain": [
              "  category  page                            title start_date      goal  \\\n",
              "0  medical     1                   kdafoos cancer 2018-07-18    500000   \n",
              "1  medical     1  92 yr old man brutally attacked 2018-07-06     15000   \n",
              "2  medical     1       olivia stoy transplant liv 2018-05-18  10000000   \n",
              "3  medical     1       autologous cell transplant 2018-06-22    250000   \n",
              "4  medical     1       claire wineland needs help 2018-06-12    225000   \n",
              "\n",
              "   raised                                               text  likes shares  \\\n",
              "0  676152  vee fighting cancer past 5 years going nowhere...  24000    330   \n",
              "1  327345  july 4th around 7pm grandfather rodolfo rodrig...  12000  26000   \n",
              "2  316376  update many fundraisers put place raise funds ...  57000  12000   \n",
              "3  241205  43 year old philip defonte husband father 3 yo...    839  18000   \n",
              "4  237555  first wow blown away amazing outpouring love s...  90000  65000   \n",
              "\n",
              "   photos donation_count duration recent_donation_time goal_reaeched_time  \\\n",
              "0      11           2408        1                    0                  1   \n",
              "1       4          12167        1                    1                  1   \n",
              "2      44           5601        3                    0                  3   \n",
              "3       0            843        2                    1                  0   \n",
              "4     200           8432        2                    0                  1   \n",
              "\n",
              "  script_run_date           city state  \n",
              "0      2018-08-27        houston    tx  \n",
              "1      2018-08-27    los angeles    ca  \n",
              "2      2018-08-27         ashley        \n",
              "3      2018-08-27  staten island    ny  \n",
              "4      2018-08-27   garden grove    ca  "
            ]
          },
          "metadata": {
            "tags": []
          },
          "execution_count": 42
        }
      ]
    },
    {
      "metadata": {
        "id": "lXwC7xpYEgdV",
        "colab_type": "code",
        "colab": {}
      },
      "cell_type": "code",
      "source": [
        "#os.mkdir('data')\n",
        "#os.chdir('data')\n",
        "campaigns.to_csv('campaigns_cleaned.csv'),index=False)"
      ],
      "execution_count": 0,
      "outputs": []
    },
    {
      "metadata": {
        "id": "IPpEOIDntj-k",
        "colab_type": "code",
        "colab": {}
      },
      "cell_type": "code",
      "source": [
        ""
      ],
      "execution_count": 0,
      "outputs": []
    },
    {
      "metadata": {
        "id": "wCcH_YPSFxNY",
        "colab_type": "code",
        "colab": {}
      },
      "cell_type": "code",
      "source": [
        ""
      ],
      "execution_count": 0,
      "outputs": []
    },
    {
      "metadata": {
        "id": "4nZfydjWGjla",
        "colab_type": "code",
        "colab": {}
      },
      "cell_type": "code",
      "source": [
        ""
      ],
      "execution_count": 0,
      "outputs": []
    }
  ]
}