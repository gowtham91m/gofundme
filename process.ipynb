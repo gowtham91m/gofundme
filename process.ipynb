{
  "nbformat": 4,
  "nbformat_minor": 0,
  "metadata": {
    "colab": {
      "name": "process.ipynb",
      "version": "0.3.2",
      "provenance": [],
      "collapsed_sections": [],
      "include_colab_link": true
    },
    "kernelspec": {
      "name": "python3",
      "display_name": "Python 3"
    }
  },
  "cells": [
    {
      "cell_type": "markdown",
      "metadata": {
        "id": "view-in-github",
        "colab_type": "text"
      },
      "source": [
        "[View in Colaboratory](https://colab.research.google.com/github/gowtham91m/gofundme/blob/master/process.ipynb)"
      ]
    },
    {
      "metadata": {
        "id": "rqxvAK-9ShJK",
        "colab_type": "code",
        "colab": {
          "base_uri": "https://localhost:8080/",
          "height": 118
        },
        "outputId": "e8b86927-6d8c-4b53-a878-0615f938e8a7"
      },
      "cell_type": "code",
      "source": [
        "import pandas as pd\n",
        "import re\n",
        "import os\n",
        "import shutil\n",
        "import nltk\n",
        "import numpy as np\n",
        "from nltk import word_tokenize\n",
        "nltk.download(['stopwords','wordnet','punkt'])\n",
        "#nltk.download('punkt')\n",
        "from nltk.corpus import stopwords\n",
        "from google.colab import files\n",
        "from nltk.stem import WordNetLemmatizer\n",
        "from getpass import getpass\n",
        "import subprocess"
      ],
      "execution_count": 1,
      "outputs": [
        {
          "output_type": "stream",
          "text": [
            "[nltk_data] Downloading package stopwords to /root/nltk_data...\n",
            "[nltk_data]   Package stopwords is already up-to-date!\n",
            "[nltk_data] Downloading package wordnet to /root/nltk_data...\n",
            "[nltk_data]   Package wordnet is already up-to-date!\n",
            "[nltk_data] Downloading package punkt to /root/nltk_data...\n",
            "[nltk_data]   Package punkt is already up-to-date!\n"
          ],
          "name": "stdout"
        }
      ]
    },
    {
      "metadata": {
        "id": "2sH_y7G3az8f",
        "colab_type": "code",
        "colab": {}
      },
      "cell_type": "code",
      "source": [
        "#campaigns = pd.read_csv('https://raw.githubusercontent.com/gowtham91m/gofundme/master/data/campaigns.csv')                        \n",
        "\n",
        "#recent_donation = campaigns['recent_donation_time'].str.split(' ', expand=True).iloc[:,0:2]\n",
        "#print(recent_donation.iloc[:,1].unique())\n",
        "\n",
        "# update all rows to month level information, since we don't have day level informaiton after one month.\n",
        "# anyting less than a month is 0 \n",
        "# all the data will be in months, we can retain the numbers alone.\n",
        "#recent_donation['months_since_last_donation'] = np.where(~recent_donation.iloc[:,1].isin(['months','month']), 0, recent_donation.iloc[:,0])\n",
        "#ampaigns = campaigns.join(recent_donation['months_since_last_donation'])\n",
        "#recent_donation.head()"
      ],
      "execution_count": 0,
      "outputs": []
    },
    {
      "metadata": {
        "id": "zKlzcMpgYgQg",
        "colab_type": "code",
        "colab": {}
      },
      "cell_type": "code",
      "source": [
        ""
      ],
      "execution_count": 0,
      "outputs": []
    },
    {
      "metadata": {
        "id": "Pty52eU0a_GX",
        "colab_type": "code",
        "colab": {}
      },
      "cell_type": "code",
      "source": [
        "# same transfromation will be applied to duration and goals_reached_time columns "
      ],
      "execution_count": 0,
      "outputs": []
    },
    {
      "metadata": {
        "id": "8bSo6ZghSt_f",
        "colab_type": "code",
        "colab": {}
      },
      "cell_type": "code",
      "source": [
        "# putting everything together\n",
        "class clean_data():\n",
        "  def __init__(self):\n",
        "    self.text_columns = ['category','title','city','state','text']\n",
        "    self.num_cols_to_clean = ['goal','raised','likes','shares','donation_count']\n",
        "    self.time_cols = ['duration','recent_donation_time','goal_reached_time']\n",
        "    \n",
        "  def str_to_num(self,x):\n",
        "      x = re.sub('[,\\$\\.]','',x)\n",
        "      x = re.sub('M','000000',x)\n",
        "      x = re.sub('k','000',x)\n",
        "      return x\n",
        "    \n",
        "  def remove_stop_words(self,x):\n",
        "    lemma = WordNetLemmatizer()\n",
        "    stop_words = set(stopwords.words('english'))\n",
        "    x_words = word_tokenize(x)\n",
        "    x_words = [lemma.lemmatize(i) for i in x_words if not i in stop_words]\n",
        "    return ' '.join(x_words)\n",
        "  \n",
        "  def time_parser(self,x):\n",
        "    x = x.str.split(' ',2, expand=True)\n",
        "    return np.where(~x.iloc[:,1].isin(['months','month']), 0, x.iloc[:,0])\n",
        "\n",
        "  def text_process(self,x):\n",
        "    x = x.lower()\n",
        "    # replace non alpha numerical characters with space character\n",
        "    x = re.sub('[^a-z0-9]',' ',x)\n",
        "    \n",
        "    # replace multiple spaceses with single space \n",
        "    x = re.sub('(  +)', ' ', x)\n",
        "    \n",
        "    # remove stop words\n",
        "    x = self.remove_stop_words(x)\n",
        "    return x\n",
        "  \n",
        "  def process(self,df):\n",
        "    df[self.num_cols_to_clean] = df[self.num_cols_to_clean].applymap(self.str_to_num)\n",
        "    df = df.join(df['location'].str.split(',', 1, expand=True).rename(columns={0:'city', 1:'state'}))\n",
        "    df['text_length'] = df.text.apply(lambda x: len(x))\n",
        "    df[self.text_columns] = df[self.text_columns].applymap(self.text_process)\n",
        "    df.drop(['location','href'],inplace=True,axis=1)\n",
        "    \n",
        "    df['start_date'] = pd.to_datetime(df.start_date)\n",
        "    df['script_run_date'] = pd.to_datetime(df.script_run_date)\n",
        "    \n",
        "    # process the time range variables, duration (overa all campaign time), goal_reached_time, recent_donation_time\n",
        "    df[self.time_cols] = df[self.time_cols].apply(self.time_parser)\n",
        "    \n",
        "    return df\n",
        "  \n",
        "  \n",
        "\n",
        "class git_put:\n",
        "  def __init__(self,root_dir = os.getcwd()):\n",
        "      self.root = root_dir\n",
        "      self.datapath = os.path.join(root_dir,'gofundme/data')\n",
        "      self.project_dir = os.path.join(root_dir,'gofundme')\n",
        "      self.git_repo = '@github.com/gowtham91m/gofundme.git'\n",
        "\n",
        "  def git_clone(self):\n",
        "    os.chdir(self.root)\n",
        "    if 'gofindme' not in os.listdir(self.root):\n",
        "      #gt = 'https://@github.com/gowtham91m/gofundme.git'\n",
        "      subprocess.Popen(['git', 'clone', str('https://'+self.git_repo)])\n",
        "    else:\n",
        "      os.chdir(self.datapath)\n",
        "      subprocess.Popen(['git','pull'])\n",
        "\n",
        "  def git_push(self):\n",
        "    os.chdir(self.project_dir)\n",
        "    \n",
        "    username = input('user name: ')\n",
        "    password = getpass('password: ')\n",
        "\n",
        "    !git config user.email \"gowtham.91m@gmail.com\"\n",
        "    !git config user.name \"Gowtham Mallikarjuna\"\n",
        "    !git add .\n",
        "    !git commit -m \"commit\"\n",
        "    #!git push -u origin \"master\"\n",
        "    subprocess.Popen(['git','push','-u','https://'+username+':'+password+self.git_repo,'--all'])\n",
        "    \n",
        "  def put_cleaned_data(self,df):\n",
        "    self.git_clone()\n",
        "    df.to_csv(os.path.join(self.datapath,'campaigns_cleaned.csv'),index=False)\n",
        "    \n",
        "    self.git_push()\n"
      ],
      "execution_count": 0,
      "outputs": []
    },
    {
      "metadata": {
        "id": "2X5c3os5kV-D",
        "colab_type": "code",
        "colab": {
          "base_uri": "https://localhost:8080/",
          "height": 101
        },
        "outputId": "3317e4ea-e819-4868-c605-7b774cd26ab0"
      },
      "cell_type": "code",
      "source": [
        "if __name__ == '__main__':\n",
        "  os.chdir('/content')\n",
        "  campaigns = pd.read_csv('https://raw.githubusercontent.com/gowtham91m/gofundme/master/data/campaigns.csv')\n",
        "  cleaned_campaigns = clean_data().process(campaigns)\n",
        "  os.chdir('/content')\n",
        "  git_put().put_cleaned_data(cleaned_campaigns)"
      ],
      "execution_count": 6,
      "outputs": [
        {
          "output_type": "stream",
          "text": [
            "user name: gowtham91m\n",
            "password: ··········\n",
            "[master e8a6903] commit\n",
            " 1 file changed, 1001 insertions(+), 1001 deletions(-)\n",
            " rewrite data/campaigns_cleaned.csv (82%)\n"
          ],
          "name": "stdout"
        }
      ]
    }
  ]
}