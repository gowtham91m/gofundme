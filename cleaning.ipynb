{
  "nbformat": 4,
  "nbformat_minor": 0,
  "metadata": {
    "colab": {
      "name": "cleaning.ipynb",
      "version": "0.3.2",
      "provenance": [],
      "collapsed_sections": [],
      "include_colab_link": true
    }
  },
  "cells": [
    {
      "cell_type": "markdown",
      "metadata": {
        "id": "view-in-github",
        "colab_type": "text"
      },
      "source": [
        "[View in Colaboratory](https://colab.research.google.com/github/gowtham91m/gofundme/blob/master/cleaning.ipynb)"
      ]
    },
    {
      "metadata": {
        "id": "rqxvAK-9ShJK",
        "colab_type": "code",
        "colab": {}
      },
      "cell_type": "code",
      "source": [
        "import pandas as pd\n",
        "import nltk\n",
        "import re"
      ],
      "execution_count": 0,
      "outputs": []
    },
    {
      "metadata": {
        "id": "8bSo6ZghSt_f",
        "colab_type": "code",
        "colab": {}
      },
      "cell_type": "code",
      "source": [
        "class clean_data():\n",
        "  def __init__(self):\n",
        "    self.text_columns = ['category','title','location','text']\n",
        "    self.num_cols_to_clean = ['goal','raised','likes','shares','donation_count']\n",
        "    \n",
        "  def str_to_num(self,x):\n",
        "      x = re.sub('[,\\$\\.]','',x)\n",
        "      x = re.sub('M','000000',x)\n",
        "      x = re.sub('k','000',x)\n",
        "      return x\n",
        "    \n",
        "  def text_process(self,x):\n",
        "    x = x.lower()\n",
        "    return x\n",
        "  \n",
        "  def process(self,df):\n",
        "    df[self.num_cols_to_clean] = df[self.num_cols_to_clean].applymap(self.str_to_num)\n",
        "    df[self.text_columns] = df[self.text_columns].applymap(self.text_process)\n",
        "    #df['city'], df['state'] = df['location'].str.split(',').str\n",
        "    #df.drop(['location'],inplace=True,axis=1)\n",
        "    \n",
        "    return df"
      ],
      "execution_count": 0,
      "outputs": []
    },
    {
      "metadata": {
        "id": "2X5c3os5kV-D",
        "colab_type": "code",
        "colab": {}
      },
      "cell_type": "code",
      "source": [
        "campaigns = pd.read_csv('https://raw.githubusercontent.com/gowtham91m/gofundme/master/data/medical.csv')\n",
        "campaigns = clean_data().process(campaigns)"
      ],
      "execution_count": 0,
      "outputs": []
    },
    {
      "metadata": {
        "id": "u6wJ9JMpdbLC",
        "colab_type": "code",
        "colab": {}
      },
      "cell_type": "code",
      "source": [
        ""
      ],
      "execution_count": 0,
      "outputs": []
    },
    {
      "metadata": {
        "id": "IPpEOIDntj-k",
        "colab_type": "code",
        "colab": {
          "base_uri": "https://localhost:8080/",
          "height": 592
        },
        "outputId": "173d5daa-9b77-4152-cfb6-e3629ef918bf"
      },
      "cell_type": "code",
      "source": [
        "campaigns.head()"
      ],
      "execution_count": 69,
      "outputs": [
        {
          "output_type": "execute_result",
          "data": {
            "text/html": [
              "<div>\n",
              "<style scoped>\n",
              "    .dataframe tbody tr th:only-of-type {\n",
              "        vertical-align: middle;\n",
              "    }\n",
              "\n",
              "    .dataframe tbody tr th {\n",
              "        vertical-align: top;\n",
              "    }\n",
              "\n",
              "    .dataframe thead th {\n",
              "        text-align: right;\n",
              "    }\n",
              "</style>\n",
              "<table border=\"1\" class=\"dataframe\">\n",
              "  <thead>\n",
              "    <tr style=\"text-align: right;\">\n",
              "      <th></th>\n",
              "      <th>category</th>\n",
              "      <th>page</th>\n",
              "      <th>title</th>\n",
              "      <th>href</th>\n",
              "      <th>location</th>\n",
              "      <th>start_date</th>\n",
              "      <th>goal</th>\n",
              "      <th>raised</th>\n",
              "      <th>text</th>\n",
              "      <th>likes</th>\n",
              "      <th>shares</th>\n",
              "      <th>photos</th>\n",
              "      <th>donation_count</th>\n",
              "      <th>duration</th>\n",
              "      <th>recent_donation_time</th>\n",
              "      <th>goal_reaeched_time</th>\n",
              "      <th>script_run_time</th>\n",
              "    </tr>\n",
              "  </thead>\n",
              "  <tbody>\n",
              "    <tr>\n",
              "      <th>0</th>\n",
              "      <td>medical</td>\n",
              "      <td>1</td>\n",
              "      <td>kdafoos ... cancer ...</td>\n",
              "      <td>https://www.gofundme.com/kdafoos-cancer</td>\n",
              "      <td>houston, tx</td>\n",
              "      <td>July 18, 2018</td>\n",
              "      <td>500000</td>\n",
              "      <td>676152</td>\n",
              "      <td>i’vee been fighting cancer for the past 5 year...</td>\n",
              "      <td>24000</td>\n",
              "      <td>330</td>\n",
              "      <td>11</td>\n",
              "      <td>2408</td>\n",
              "      <td>1 month</td>\n",
              "      <td>15 days ago</td>\n",
              "      <td>1 month</td>\n",
              "      <td>2018-08-27</td>\n",
              "    </tr>\n",
              "    <tr>\n",
              "      <th>1</th>\n",
              "      <td>medical</td>\n",
              "      <td>1</td>\n",
              "      <td>92 yr old man brutally attacked.</td>\n",
              "      <td>https://www.gofundme.com/3ctqm-medical-bills-f...</td>\n",
              "      <td>los angeles, ca</td>\n",
              "      <td>July 6, 2018</td>\n",
              "      <td>15000</td>\n",
              "      <td>327345</td>\n",
              "      <td>on july 4th at around 7pm, my grandfather rodo...</td>\n",
              "      <td>12000</td>\n",
              "      <td>26000</td>\n",
              "      <td>4</td>\n",
              "      <td>12167</td>\n",
              "      <td>1 month</td>\n",
              "      <td>1 month ago</td>\n",
              "      <td>1 month</td>\n",
              "      <td>2018-08-27</td>\n",
              "    </tr>\n",
              "    <tr>\n",
              "      <th>2</th>\n",
              "      <td>medical</td>\n",
              "      <td>1</td>\n",
              "      <td>olivia stoy:transplant &amp; liv it up!</td>\n",
              "      <td>https://www.gofundme.com/olivia-stoy-bone-marr...</td>\n",
              "      <td>ashley, in</td>\n",
              "      <td>May 18, 2018</td>\n",
              "      <td>10000000</td>\n",
              "      <td>316376</td>\n",
              "      <td>update: many fundraisers have been put into pl...</td>\n",
              "      <td>57000</td>\n",
              "      <td>12000</td>\n",
              "      <td>44</td>\n",
              "      <td>5601</td>\n",
              "      <td>3 months</td>\n",
              "      <td>1 day ago</td>\n",
              "      <td>3 months</td>\n",
              "      <td>2018-08-27</td>\n",
              "    </tr>\n",
              "    <tr>\n",
              "      <th>3</th>\n",
              "      <td>medical</td>\n",
              "      <td>1</td>\n",
              "      <td>autologous t cell transplant</td>\n",
              "      <td>https://www.gofundme.com/autologous-Tcell-Tran...</td>\n",
              "      <td>staten island, ny</td>\n",
              "      <td>June 22, 2018</td>\n",
              "      <td>250000</td>\n",
              "      <td>241205</td>\n",
              "      <td>43 year old philip defonte who is a husband &amp; ...</td>\n",
              "      <td>839</td>\n",
              "      <td>18000</td>\n",
              "      <td>0</td>\n",
              "      <td>843</td>\n",
              "      <td>2 months</td>\n",
              "      <td>1 month ago</td>\n",
              "      <td>0</td>\n",
              "      <td>2018-08-27</td>\n",
              "    </tr>\n",
              "    <tr>\n",
              "      <th>4</th>\n",
              "      <td>medical</td>\n",
              "      <td>1</td>\n",
              "      <td>claire wineland needs our help</td>\n",
              "      <td>https://www.gofundme.com/teamclaire</td>\n",
              "      <td>garden grove, ca</td>\n",
              "      <td>June 12, 2018</td>\n",
              "      <td>225000</td>\n",
              "      <td>237555</td>\n",
              "      <td>first of all, wow!! we have been blown away by...</td>\n",
              "      <td>90000</td>\n",
              "      <td>65000</td>\n",
              "      <td>200</td>\n",
              "      <td>8432</td>\n",
              "      <td>2 months</td>\n",
              "      <td>23 hours ago</td>\n",
              "      <td>1 month</td>\n",
              "      <td>2018-08-27</td>\n",
              "    </tr>\n",
              "  </tbody>\n",
              "</table>\n",
              "</div>"
            ],
            "text/plain": [
              "  category  page                                title  \\\n",
              "0  medical     1               kdafoos ... cancer ...   \n",
              "1  medical     1     92 yr old man brutally attacked.   \n",
              "2  medical     1  olivia stoy:transplant & liv it up!   \n",
              "3  medical     1         autologous t cell transplant   \n",
              "4  medical     1       claire wineland needs our help   \n",
              "\n",
              "                                                href           location  \\\n",
              "0            https://www.gofundme.com/kdafoos-cancer        houston, tx   \n",
              "1  https://www.gofundme.com/3ctqm-medical-bills-f...    los angeles, ca   \n",
              "2  https://www.gofundme.com/olivia-stoy-bone-marr...         ashley, in   \n",
              "3  https://www.gofundme.com/autologous-Tcell-Tran...  staten island, ny   \n",
              "4                https://www.gofundme.com/teamclaire   garden grove, ca   \n",
              "\n",
              "      start_date      goal  raised  \\\n",
              "0  July 18, 2018    500000  676152   \n",
              "1   July 6, 2018     15000  327345   \n",
              "2   May 18, 2018  10000000  316376   \n",
              "3  June 22, 2018    250000  241205   \n",
              "4  June 12, 2018    225000  237555   \n",
              "\n",
              "                                                text  likes shares  photos  \\\n",
              "0  i’vee been fighting cancer for the past 5 year...  24000    330      11   \n",
              "1  on july 4th at around 7pm, my grandfather rodo...  12000  26000       4   \n",
              "2  update: many fundraisers have been put into pl...  57000  12000      44   \n",
              "3  43 year old philip defonte who is a husband & ...    839  18000       0   \n",
              "4  first of all, wow!! we have been blown away by...  90000  65000     200   \n",
              "\n",
              "  donation_count  duration recent_donation_time goal_reaeched_time  \\\n",
              "0           2408   1 month          15 days ago            1 month   \n",
              "1          12167   1 month          1 month ago            1 month   \n",
              "2           5601  3 months            1 day ago           3 months   \n",
              "3            843  2 months          1 month ago                  0   \n",
              "4           8432  2 months         23 hours ago            1 month   \n",
              "\n",
              "  script_run_time  \n",
              "0      2018-08-27  \n",
              "1      2018-08-27  \n",
              "2      2018-08-27  \n",
              "3      2018-08-27  \n",
              "4      2018-08-27  "
            ]
          },
          "metadata": {
            "tags": []
          },
          "execution_count": 69
        }
      ]
    },
    {
      "metadata": {
        "id": "Rs8abqpjcGsV",
        "colab_type": "code",
        "colab": {}
      },
      "cell_type": "code",
      "source": [
        ""
      ],
      "execution_count": 0,
      "outputs": []
    }
  ]
}