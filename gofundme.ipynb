{
  "nbformat": 4,
  "nbformat_minor": 0,
  "metadata": {
    "colab": {
      "name": "gofundme.ipynb",
      "version": "0.3.2",
      "provenance": [],
      "collapsed_sections": [],
      "include_colab_link": true
    },
    "kernelspec": {
      "name": "python3",
      "display_name": "Python 3"
    }
  },
  "cells": [
    {
      "cell_type": "markdown",
      "metadata": {
        "id": "view-in-github",
        "colab_type": "text"
      },
      "source": [
        "[View in Colaboratory](https://colab.research.google.com/github/gowtham91m/gofundme/blob/master/gofundme.ipynb)"
      ]
    },
    {
      "metadata": {
        "id": "vbaSOpKwj4uK",
        "colab_type": "code",
        "colab": {}
      },
      "cell_type": "code",
      "source": [
        "%%capture\n",
        "!pip install \"requests[security]\""
      ],
      "execution_count": 0,
      "outputs": []
    },
    {
      "metadata": {
        "id": "oPt84Wphrm3y",
        "colab_type": "code",
        "colab": {}
      },
      "cell_type": "code",
      "source": [
        "from bs4 import BeautifulSoup as bs\n",
        "import requests\n",
        "from IPython.display import display, clear_output\n",
        "import re\n",
        "import pandas as pd\n",
        "from time import time\n",
        "from collections import defaultdict"
      ],
      "execution_count": 0,
      "outputs": []
    },
    {
      "metadata": {
        "id": "u32P_SRW_TdU",
        "colab_type": "code",
        "colab": {}
      },
      "cell_type": "code",
      "source": [
        "# all categories and the cid\n",
        "class web_scraper:\n",
        "  def __init__(self,url):\n",
        "    self.url = url\n",
        "    \n",
        "  def get_categories(self):\n",
        "    soup = requests.get(url)\n",
        "    soup = bs(soup.text,'html.parser')\n",
        "    category = soup.findAll(class_='text-black')\n",
        "    categories = [i.text for i in category]  \n",
        "    return categories[:1] #16\n",
        "  \n",
        "  def details_parser(self,url):\n",
        "    soup=bs(requests.get(url).text,'html.parser')\n",
        "    text = soup.findAll(class_=\"co-story truncate-text truncate-text--description js-truncate\")[0].text.strip()\n",
        "  \n",
        "    return({'text':text})\n",
        "  \n",
        "  def scrape(self):\n",
        "    df = pd.DataFrame({})\n",
        "    for i in self.get_categories():\n",
        "      print(i,end='  ')\n",
        "      i='-'.join(i.split(' '))\n",
        "      i = 'animal' if i == 'Animals' else i\n",
        "      url = 'https://www.gofundme.com/discover/'+i+'-fundraiser'\n",
        "      soup = bs(requests.get(url).text,'html.parser')\n",
        "      cid = re.findall('\\d+',re.findall('cid=\\'\\s\\+\\s\\'\\d+', soup.find_all('script')[13].text)[0])[0]\n",
        "      Resp,page = True,1\n",
        "      while Resp:\n",
        "        url = 'https://www.gofundme.com/mvc.php?route=categorypages/load_more&page='+str(page)+'&term=&cid='+cid\n",
        "        soup = requests.get(url)\n",
        "        soup = bs(soup.text, 'html.parser')\n",
        "        if len(soup) <1: Resp =False\n",
        "        name = [ hit.text  for hit in soup.findAll(attrs={'class' : 'fund-title truncate-single-line show-for-medium'})]\n",
        "        href = [i['href'] for i in soup.findAll('a',attrs={'class':'campaign-tile-img--contain'})]\n",
        "        location = [i.text[1:-1] for i in soup.findAll(class_='fund-item fund-location truncate-single-line')]\n",
        "        raised = [i.findAll('strong')[0].text[:-7] for i in soup.findAll(class_=\"fund-item truncate-single-line\")]\n",
        "        goal = [re.findall('\\$\\d+\\,\\d+',i.text)[1] for i in soup.findAll(class_=\"fund-item truncate-single-line\")]\n",
        "        \n",
        "        #details = [self.details_parser(i['href']) for i in soup.findAll('a',attrs={'class':'campaign-tile-img--contain'})]\n",
        "        details =defaultdict(list)\n",
        "        for i in soup.findAll('a',attrs={'class':'campaign-tile-img--contain'}):\n",
        "          for key, value in self.details_parser(i['href']).items():\n",
        "            details[key].append(value)\n",
        "        \n",
        "        df = df.append(pd.DataFrame({'category':[i]*len(name),\n",
        "                                     'name':name,\n",
        "                                     'href':href,\n",
        "                                     'location':location, \n",
        "                                     'raised':raised,\n",
        "                                     'goal':goal,\n",
        "                                     'text':details['text']}))\n",
        "        if (page%10==0):print(page,end=' ')\n",
        "        page+=1\n",
        "      print('\\n')\n",
        "    clear_output()\n",
        "    columns = ['category','name','href','location','raised','goal']\n",
        "    return df[columns]"
      ],
      "execution_count": 0,
      "outputs": []
    },
    {
      "metadata": {
        "id": "SJJKVfxSGPIZ",
        "colab_type": "code",
        "colab": {
          "base_uri": "https://localhost:8080/",
          "height": 467
        },
        "outputId": "d996ece8-fc8e-4e2f-d60e-bfd1a30bf4ee"
      },
      "cell_type": "code",
      "source": [
        "url = 'https://www.gofundme.com/discover'\n",
        "start_time = time()\n",
        "df = web_scraper(url).scrape()\n",
        "print((time()-start_time)/60)"
      ],
      "execution_count": 270,
      "outputs": [
        {
          "output_type": "stream",
          "text": [
            "Medical  10 20 30 40 50 60 70 "
          ],
          "name": "stdout"
        },
        {
          "output_type": "error",
          "ename": "IndexError",
          "evalue": "ignored",
          "traceback": [
            "\u001b[0;31m---------------------------------------------------------------------------\u001b[0m",
            "\u001b[0;31mIndexError\u001b[0m                                Traceback (most recent call last)",
            "\u001b[0;32m<ipython-input-270-326f3efbc528>\u001b[0m in \u001b[0;36m<module>\u001b[0;34m()\u001b[0m\n\u001b[1;32m      1\u001b[0m \u001b[0murl\u001b[0m \u001b[0;34m=\u001b[0m \u001b[0;34m'https://www.gofundme.com/discover'\u001b[0m\u001b[0;34m\u001b[0m\u001b[0m\n\u001b[1;32m      2\u001b[0m \u001b[0mstart_time\u001b[0m \u001b[0;34m=\u001b[0m \u001b[0mtime\u001b[0m\u001b[0;34m(\u001b[0m\u001b[0;34m)\u001b[0m\u001b[0;34m\u001b[0m\u001b[0m\n\u001b[0;32m----> 3\u001b[0;31m \u001b[0mdf\u001b[0m \u001b[0;34m=\u001b[0m \u001b[0mweb_scraper\u001b[0m\u001b[0;34m(\u001b[0m\u001b[0murl\u001b[0m\u001b[0;34m)\u001b[0m\u001b[0;34m.\u001b[0m\u001b[0mscrape\u001b[0m\u001b[0;34m(\u001b[0m\u001b[0;34m)\u001b[0m\u001b[0;34m\u001b[0m\u001b[0m\n\u001b[0m\u001b[1;32m      4\u001b[0m \u001b[0mprint\u001b[0m\u001b[0;34m(\u001b[0m\u001b[0;34m(\u001b[0m\u001b[0mtime\u001b[0m\u001b[0;34m(\u001b[0m\u001b[0;34m)\u001b[0m\u001b[0;34m-\u001b[0m\u001b[0mstart_time\u001b[0m\u001b[0;34m)\u001b[0m\u001b[0;34m/\u001b[0m\u001b[0;36m60\u001b[0m\u001b[0;34m)\u001b[0m\u001b[0;34m\u001b[0m\u001b[0m\n",
            "\u001b[0;32m<ipython-input-263-ff82a08ebaa1>\u001b[0m in \u001b[0;36mscrape\u001b[0;34m(self)\u001b[0m\n\u001b[1;32m     40\u001b[0m         \u001b[0mdetails\u001b[0m \u001b[0;34m=\u001b[0m\u001b[0mdefaultdict\u001b[0m\u001b[0;34m(\u001b[0m\u001b[0mlist\u001b[0m\u001b[0;34m)\u001b[0m\u001b[0;34m\u001b[0m\u001b[0m\n\u001b[1;32m     41\u001b[0m         \u001b[0;32mfor\u001b[0m \u001b[0mi\u001b[0m \u001b[0;32min\u001b[0m \u001b[0msoup\u001b[0m\u001b[0;34m.\u001b[0m\u001b[0mfindAll\u001b[0m\u001b[0;34m(\u001b[0m\u001b[0;34m'a'\u001b[0m\u001b[0;34m,\u001b[0m\u001b[0mattrs\u001b[0m\u001b[0;34m=\u001b[0m\u001b[0;34m{\u001b[0m\u001b[0;34m'class'\u001b[0m\u001b[0;34m:\u001b[0m\u001b[0;34m'campaign-tile-img--contain'\u001b[0m\u001b[0;34m}\u001b[0m\u001b[0;34m)\u001b[0m\u001b[0;34m:\u001b[0m\u001b[0;34m\u001b[0m\u001b[0m\n\u001b[0;32m---> 42\u001b[0;31m           \u001b[0;32mfor\u001b[0m \u001b[0mkey\u001b[0m\u001b[0;34m,\u001b[0m \u001b[0mvalue\u001b[0m \u001b[0;32min\u001b[0m \u001b[0mself\u001b[0m\u001b[0;34m.\u001b[0m\u001b[0mdetails_parser\u001b[0m\u001b[0;34m(\u001b[0m\u001b[0mi\u001b[0m\u001b[0;34m[\u001b[0m\u001b[0;34m'href'\u001b[0m\u001b[0;34m]\u001b[0m\u001b[0;34m)\u001b[0m\u001b[0;34m.\u001b[0m\u001b[0mitems\u001b[0m\u001b[0;34m(\u001b[0m\u001b[0;34m)\u001b[0m\u001b[0;34m:\u001b[0m\u001b[0;34m\u001b[0m\u001b[0m\n\u001b[0m\u001b[1;32m     43\u001b[0m             \u001b[0mdetails\u001b[0m\u001b[0;34m[\u001b[0m\u001b[0mkey\u001b[0m\u001b[0;34m]\u001b[0m\u001b[0;34m.\u001b[0m\u001b[0mappend\u001b[0m\u001b[0;34m(\u001b[0m\u001b[0mvalue\u001b[0m\u001b[0;34m)\u001b[0m\u001b[0;34m\u001b[0m\u001b[0m\n\u001b[1;32m     44\u001b[0m \u001b[0;34m\u001b[0m\u001b[0m\n",
            "\u001b[0;32m<ipython-input-263-ff82a08ebaa1>\u001b[0m in \u001b[0;36mdetails_parser\u001b[0;34m(self, url)\u001b[0m\n\u001b[1;32m     12\u001b[0m   \u001b[0;32mdef\u001b[0m \u001b[0mdetails_parser\u001b[0m\u001b[0;34m(\u001b[0m\u001b[0mself\u001b[0m\u001b[0;34m,\u001b[0m\u001b[0murl\u001b[0m\u001b[0;34m)\u001b[0m\u001b[0;34m:\u001b[0m\u001b[0;34m\u001b[0m\u001b[0m\n\u001b[1;32m     13\u001b[0m     \u001b[0msoup\u001b[0m\u001b[0;34m=\u001b[0m\u001b[0mbs\u001b[0m\u001b[0;34m(\u001b[0m\u001b[0mrequests\u001b[0m\u001b[0;34m.\u001b[0m\u001b[0mget\u001b[0m\u001b[0;34m(\u001b[0m\u001b[0murl\u001b[0m\u001b[0;34m)\u001b[0m\u001b[0;34m.\u001b[0m\u001b[0mtext\u001b[0m\u001b[0;34m,\u001b[0m\u001b[0;34m'html.parser'\u001b[0m\u001b[0;34m)\u001b[0m\u001b[0;34m\u001b[0m\u001b[0m\n\u001b[0;32m---> 14\u001b[0;31m     \u001b[0mtext\u001b[0m \u001b[0;34m=\u001b[0m \u001b[0msoup\u001b[0m\u001b[0;34m.\u001b[0m\u001b[0mfindAll\u001b[0m\u001b[0;34m(\u001b[0m\u001b[0mclass_\u001b[0m\u001b[0;34m=\u001b[0m\u001b[0;34m\"co-story truncate-text truncate-text--description js-truncate\"\u001b[0m\u001b[0;34m)\u001b[0m\u001b[0;34m[\u001b[0m\u001b[0;36m0\u001b[0m\u001b[0;34m]\u001b[0m\u001b[0;34m.\u001b[0m\u001b[0mtext\u001b[0m\u001b[0;34m.\u001b[0m\u001b[0mstrip\u001b[0m\u001b[0;34m(\u001b[0m\u001b[0;34m)\u001b[0m\u001b[0;34m\u001b[0m\u001b[0m\n\u001b[0m\u001b[1;32m     15\u001b[0m \u001b[0;34m\u001b[0m\u001b[0m\n\u001b[1;32m     16\u001b[0m     \u001b[0;32mreturn\u001b[0m\u001b[0;34m(\u001b[0m\u001b[0;34m{\u001b[0m\u001b[0;34m'text'\u001b[0m\u001b[0;34m:\u001b[0m\u001b[0mtext\u001b[0m\u001b[0;34m}\u001b[0m\u001b[0;34m)\u001b[0m\u001b[0;34m\u001b[0m\u001b[0m\n",
            "\u001b[0;31mIndexError\u001b[0m: list index out of range"
          ]
        }
      ]
    },
    {
      "metadata": {
        "id": "jmcUxwBG-IU0",
        "colab_type": "code",
        "colab": {
          "base_uri": "https://localhost:8080/",
          "height": 201
        },
        "outputId": "21dc6af8-cc8c-4df2-ddcf-64f304139d9a"
      },
      "cell_type": "code",
      "source": [
        "df.head()"
      ],
      "execution_count": 200,
      "outputs": [
        {
          "output_type": "execute_result",
          "data": {
            "text/html": [
              "<div>\n",
              "<style scoped>\n",
              "    .dataframe tbody tr th:only-of-type {\n",
              "        vertical-align: middle;\n",
              "    }\n",
              "\n",
              "    .dataframe tbody tr th {\n",
              "        vertical-align: top;\n",
              "    }\n",
              "\n",
              "    .dataframe thead th {\n",
              "        text-align: right;\n",
              "    }\n",
              "</style>\n",
              "<table border=\"1\" class=\"dataframe\">\n",
              "  <thead>\n",
              "    <tr style=\"text-align: right;\">\n",
              "      <th></th>\n",
              "      <th>category</th>\n",
              "      <th>name</th>\n",
              "      <th>href</th>\n",
              "      <th>location</th>\n",
              "      <th>raised</th>\n",
              "      <th>goal</th>\n",
              "    </tr>\n",
              "  </thead>\n",
              "  <tbody>\n",
              "    <tr>\n",
              "      <th>0</th>\n",
              "      <td>Medical</td>\n",
              "      <td>Kdafoos ... Cancer ...</td>\n",
              "      <td>https://www.gofundme.com/kdafoos-cancer</td>\n",
              "      <td>Houston, TX</td>\n",
              "      <td>$676,152</td>\n",
              "      <td>$500,000</td>\n",
              "    </tr>\n",
              "    <tr>\n",
              "      <th>1</th>\n",
              "      <td>Medical</td>\n",
              "      <td>92 Yr old Man Brutally Attacked.</td>\n",
              "      <td>https://www.gofundme.com/3ctqm-medical-bills-f...</td>\n",
              "      <td>Los Angeles, CA</td>\n",
              "      <td>$327,345</td>\n",
              "      <td>$15,000</td>\n",
              "    </tr>\n",
              "    <tr>\n",
              "      <th>2</th>\n",
              "      <td>Medical</td>\n",
              "      <td>Olivia Stoy:Transplant &amp; Liv it up!</td>\n",
              "      <td>https://www.gofundme.com/olivia-stoy-bone-marr...</td>\n",
              "      <td>Ashley, IN</td>\n",
              "      <td>$315,726</td>\n",
              "      <td>$315,726</td>\n",
              "    </tr>\n",
              "    <tr>\n",
              "      <th>3</th>\n",
              "      <td>Medical</td>\n",
              "      <td>AUTOLOGOUS T CELL TRANSPLANT</td>\n",
              "      <td>https://www.gofundme.com/autologous-Tcell-Tran...</td>\n",
              "      <td>Staten Island, NY</td>\n",
              "      <td>$241,105</td>\n",
              "      <td>$250,000</td>\n",
              "    </tr>\n",
              "    <tr>\n",
              "      <th>4</th>\n",
              "      <td>Medical</td>\n",
              "      <td>A chance of rebirth</td>\n",
              "      <td>https://www.gofundme.com/a-chance-of-rebirth</td>\n",
              "      <td>Dublin, CA</td>\n",
              "      <td>$237,329</td>\n",
              "      <td>$225,000</td>\n",
              "    </tr>\n",
              "  </tbody>\n",
              "</table>\n",
              "</div>"
            ],
            "text/plain": [
              "  category                                 name  \\\n",
              "0  Medical               Kdafoos ... Cancer ...   \n",
              "1  Medical     92 Yr old Man Brutally Attacked.   \n",
              "2  Medical  Olivia Stoy:Transplant & Liv it up!   \n",
              "3  Medical         AUTOLOGOUS T CELL TRANSPLANT   \n",
              "4  Medical                  A chance of rebirth   \n",
              "\n",
              "                                                href           location  \\\n",
              "0            https://www.gofundme.com/kdafoos-cancer        Houston, TX   \n",
              "1  https://www.gofundme.com/3ctqm-medical-bills-f...    Los Angeles, CA   \n",
              "2  https://www.gofundme.com/olivia-stoy-bone-marr...         Ashley, IN   \n",
              "3  https://www.gofundme.com/autologous-Tcell-Tran...  Staten Island, NY   \n",
              "4       https://www.gofundme.com/a-chance-of-rebirth         Dublin, CA   \n",
              "\n",
              "     raised      goal  \n",
              "0  $676,152  $500,000  \n",
              "1  $327,345   $15,000  \n",
              "2  $315,726  $315,726  \n",
              "3  $241,105  $250,000  \n",
              "4  $237,329  $225,000  "
            ]
          },
          "metadata": {
            "tags": []
          },
          "execution_count": 200
        }
      ]
    },
    {
      "metadata": {
        "id": "kfR5EzFrGeiq",
        "colab_type": "code",
        "colab": {}
      },
      "cell_type": "code",
      "source": [
        ""
      ],
      "execution_count": 0,
      "outputs": []
    },
    {
      "metadata": {
        "id": "6w_JLRA8Sc8u",
        "colab_type": "code",
        "colab": {}
      },
      "cell_type": "code",
      "source": [
        "#url = 'https://www.gofundme.com/discover/medical-fundraiser'\n",
        "url = 'https://www.gofundme.com/mvc.php?route=categorypages/load_more&page=1&term=&cid=11'\n",
        "#url = 'https://www.gofundme.com/kdafoos-cancer'\n",
        "soup = bs(requests.get(url).text,'html.parser')"
      ],
      "execution_count": 0,
      "outputs": []
    },
    {
      "metadata": {
        "id": "btDWy-UD97ql",
        "colab_type": "code",
        "colab": {}
      },
      "cell_type": "code",
      "source": [
        "\n",
        "details =defaultdict(list)\n",
        "for i in soup.findAll('a',attrs={'class':'campaign-tile-img--contain'}):\n",
        "  for key, value in title_parser(i['href']).items():\n",
        "    details[key].append(value)"
      ],
      "execution_count": 0,
      "outputs": []
    },
    {
      "metadata": {
        "id": "p_-Xy-7Oh5p1",
        "colab_type": "code",
        "colab": {
          "base_uri": "https://localhost:8080/",
          "height": 239
        },
        "outputId": "9215a23a-ab7a-4d58-a61f-05cf8a771e16"
      },
      "cell_type": "code",
      "source": [
        "details['text']"
      ],
      "execution_count": 262,
      "outputs": [
        {
          "output_type": "execute_result",
          "data": {
            "text/plain": [
              "['I’vee been fighting cancer for the past 5 years and it’s going nowhere anymore. The fund i need is for a trial treatment. I need to survive for my wife, 4 years old son and the society.\\xa0Due to withdrawal guidelines, my Power of Attorney, Cameron McHugh, will be withdrawing the funds on my behalf',\n",
              " 'On July 4th at around 7pm, my grandfather Rodolfo Rodriguez \\xa0whose 92 years of age was going for his daily walk around the block when he was assaulted by and African American lady and five other guys. He is doing really bad, has a lot of bruises on his face and a broken cheekbone.El 4 de julio a eso de las 7 p.m., mi abuelo Rodolfo Rodríguez, de 92 años de edad, salía para su paseo diario por la cuadra cuando fue asaltado por una mujer afroamericana y otros cinco muchachos. Él está yendo muy mal, tiene muchos moretones en la cara, ha perdido la vista en su ojo derecho y tiene un pómulo roto. Pedimos ayuda a las personas porque su tratamiento será largo y costoso para su recuperación.',\n",
              " \"Update: Many fundraisers have been put into place to raise funds for the Stoy Family to cover the cost of the transplant.\\xa0Nearly a month into fundraising, Olivia's story had reached so many people that the initial goal was met! $350,000 was the cost of the initial procedure and does not include additional treatment: hospital stays longer than the allotted 50 days, medications, time off of work, and travel expenses. Depending on how fast Olivia's health progresses after the transplant, additional bills could add up fast.\\xa0Now, Olivia wants to use this experience to bring light to childhood cancer and raise additional money for other children in medical battles of their own. As a result, she created Liv It Up\\xa0, a campaign designed to shed light on the struggles of childhood cancer through her own personal experiences and those of families she has met along the way. In an effort to help her through the recovery process, Olivia wants to raise $1 million for Liv It Up, to help give young cancer patients a chance at being a kid and their parents the peace of mind that they will have help paying for life-saving medical treatments like Olivia's.Olivia Stoy was an active 12 year old girl, finishing her first year at Angola Middle School. What was thought to be a lingering cold turned out to be something much more serious. Olivia was sent from a local hospital to Riley Hospital for Children in Indianapolis and was eventually diagnosed with T-Lymphoblastic Lymphoma. \\xa0Right away, her team of doctors worked on her treatment plan. \\xa0Of course, there were a few bumps in the road: a chemo medication that at normal strength caused Olivia to have seizures; an infection which meant an automatic 2 week stay in the hospital; not to mention all of the trips to and from Riley in between those events. \\xa0But after all the ups and downs on February 14, 2017 Olivia was declared cancer free but would need to continue treatments through September 2018 to increase the chances of her cancer not returning.During this time, many people asked how they could help, how could they donate. The Stoy family was not in need of funds at the time and Olivia wanted to make sure other kids could benefit from the work of the Child Life Specialists at Riley and Cancer Research. All money was directed to the Riley Foundation where Olivia chose it’s route. To date, over $50,000 has been donated to Riley in Olivia’s name. In March 2018, just one year after celebrating Olivia being cancer free, Olivia’s cancer returned. It was devastating for all who followed her story. Right away the doctors at Riley worked on a plan for Olivia’s relapse. The plan consisted of several rounds of chemotherapy and once the cancer is gone a bone marrow transplant will be needed. After testing members of Olivia’s immediate family, her brother was found to be a 100% match! The Stoy family is part of a faith sharing insurance plan that does not cover organ transplants, including bone marrow transplants. While the family has appealed to the insurance board, on May 14, 2018 the sharing/insurance plan declined coverage of the bone marrow transplant which is the recommended treatment option by doctors at Riley Hospital for Olivia’s survival.We are fundraising for the Stoy Family to help cover the cost of the bone marrow transplant. The original estimate is $900,000. The family has negotiated a price with the hospital and needs to raise $350,000 before for the bone marrow transplant can take place which is estimated to begin July 2018. Should any complication arise during Olivia’s treatment additional funds will be needed. If funds are raised that exceed the amount needed for the bone marrow transplant, the hope is that this fund can provide to other childhood cancer patients and their families for years to come in honor of Olivia Stoy, a true fighter and inspiration to so many!Tax deductible checks can be made out to “Liv it Up” and mailed to Pleasant Lake Mennonite Church | c/o Liv It Up | 5142 S. Old US Hwy 27 Pleasant Lake, IN 46779.\",\n",
              " '43 year old Philip Defonte who is a husband & father of 3 young boys was diagnosed with a glioblastoma (brain cancer) in late October of 2016 and had surgery right away to remove tumor from back of brain. Philip has been fighting this terrible disease since 2016.Philip did chemotherapy post the 2016 operation and then 90 days ago in March of 2018 he had surgery to remove a re occurring glioblastoma that moved to front lobe of brain. Philip’s doctor who is at NYU hospital performed both surgeries and currently has him under a combination treatment of radiation and an immunotherapy. Last week Philip found out that there has been another recurrence of the glioblastoma. Philip’s family and friends are exploring options which include an Autologous T Cell Harvest, Expansion & Transplant in Europe. There are significant costs associated with this treatment, however have proven to have tremendous results. We are all optimistic that this Autologous T Cell Harvest, Expansion & Transplant can help to eliminate this glioblastoma. The cost of this procedure is $500,000. We are seeking to raise $250,000 to make this treatment possible.Please contribute what you can afford so Philip Defonte can undergo the Autologous T Cell Transplant procedure. Please be as generous as possible to the Defonte Family as they have been so generous to all of us.Team Phil D is a group of Philip Defonte’s Friends and Family who setup this account to raise the funds for Philips treatment. All of the funds raised will be sent directly to Philip and Toni Ann Defonte as the beneficiaries of this campaign. The funds will be used for treatment , all associated expenses the patient will have in traveling  and remaining balance if any to support his family wife and kids while he recovers.******** Message From Phil********I am so blessed to have such generous family and friends; and I thank God for that, but to thank someone for giving you the means to save your life is not easy to put into words. The wishes of love, caring and kindness that came through everyone’s thoughtful and generous messages and donations both on and off of the go fund me page converts my gratitude and appreciation of you all to happiness and hopefulness for the future. God has answered my prayers through your kindness and medical technology. You have given me hope and confidence when I thought my life was over. I will update you with my health and treatment periodically. Thank you and God bless you. Philip Defonte',\n",
              " 'Ganga was the life of every party, the person who could pray for somebody else even when she was pregnant at full term. She is a self less soul who always places the happiness of others above hers.When she got pregnant the 2nd time, we were excited as friends to see the baby boy. She got herself checked in for delivery at Stanford medical facility - Dublin the night of 16th May 2018. Its been 65 days but Ganga hasn’t returned home. Ganga went through 2 cardiac arrests, brain damage and has been in coma and a partial vegetative state past 65 days.\\xa0Ganga was diagnosed with AFE (amniotic fluid embolism). A rare childbirth (obstetric) emergency in which\\xa0amniotic fluid, enters the blood stream of the mother to trigger a serious reaction.\\xa0When she was awaiting delivery the night of, the amniotic fluid percolated into her system putting her heart through 2 cardiac arrests. The CPR brought her back temporarily but the fluid mixed blood had affected the brain pushing her into coma.Her husband Sriram, our dear friend has not left her side since that day. It kills him to watch the enigma of his life, lying unresponsive to the very voices that filled her life.\\xa0Her little child still thinks her mom is just unwell and will come back and hug her soon, the baby boy Rithvin has not felt the touch of his dear mother till this day.At this heart wrenching moment, we would like your help to keep Ganga in the facility, so she receives the much needed treatment to recover. The family has undergone unimaginable trauma in a matter of hours and its been 65 days of suffering.Our hopes are high, she is taking baby steps of progress now, she opens her eyes, but can’t process her surrounding yet. She can hear you speak but cannot respond yet. But we are happy she has progressed thus far. We seek your help to continue the treatment and hospital care such that our Ganga returns back to us the way she was in fullness and health. Her little children have suffered enough and should be able to re-unite with their mother soon. The loving husband Sriram needs to trust that there is still goodness in this world and he can piece his family together very soon.We as friends, appeal to you to contribute as much as you can to help pay for the medical expenses.** please refrain from contacting the family at this point of time**',\n",
              " 'First of all, WOW!! We have been blown away by the amazing outpouring of love and support you have shown to Claire..deeply humbled in fact.\\xa0 Friends have encouraged us to raise the goal to meet the demand but I want everyone to know that our transplant finances have been covered in full.\\xa0 Anything additional you choose to donate will be to show Claire your love and to help her do something amazing post transplant.\\xa0 She is full of wonderful ideas but first new lungs, then look out world! :) <3\\xa0\"Death is inevitable, but living a life we are proud of is something we can control\". ~ Claire Wineland Some of you may have heard one of Claire Wineland\\'s\\xa0 many inspirational speeches\\xa0at events such as PTTOW, THRIVE: Make Money Matter, WORLDZ, Zappos, Klick Health, TEDx, OMED and AARC or possibly you follow her on Facebook\\xa0, Twitter\\xa0, Instagram\\xa0 \\xa0or YouTube\\xa0 but one thing about her is she never asks for help for herself, she is a stubborn little force of nature and determined to\\xa0 live her life to the fullest despite her failing health and is always, always of service to others and shares her message far and wide. This last year, her decline due to having Cystic Fibrosis\\xa0 (CF) has been drastic.\\xa0 She is unable to do the work that she loves, which is traveling the world to share her message with thousands of people, she is using a wheelchair due to shortness of breath to walk more than 100ft and her quality of life has become just about staying alive. ￼ This is not the Claire we all know and love. ￼\\xa0 She has recently been placed on the UCSD Lung Transplant list and is anxiously awaiting the call for new lungs.\\xa0 A new start, a new chapter #metamorphosis.\\xa0\\xa0Again, we want to make sure that everyone knows this money will not be used for the transplant itself, we do have medical insurance. But the ancillary costs\\xa0 and medication co pays before, during and after can be considerable, and as you know, she is already struggling to make ends meet and is unable to work. Full recovery can take approximately 6 months post transplant, barring any complications or rejection.We will keep you posted as to her progress! Right now, the doctors say she needs to gain some weight in order to bring down additional risk factors. Did you know that CFers need 5,000 calories a day just to maintain their weight?\\xa0This is why we started this Go Fund Me page ~ to give her the support she needs up to and beyond transplant for at least 6\\xa0 months.\\xa0\\xa0 Since the transplant will take place in San Diego and she currently lives in Los Angeles, she needs to rent an apartment for 3 to 6 months post transplant as well as pay her rent and living expenses until the big day comes since she is no longer able to work to support herself.\\xa0\\xa0We are thrilled that lungs are on the way but she needs a community to help cover all of the endless expenses involved.\\xa0 The back and forth to San Diego appointments, the hotels, her current living expenses etc.. We hope that she has inspired you with her endless positivity, sense of humor and charitable work through a non profit she founded at 13 years old, Claire\\'s Place Foundation\\xa0which ironically helps other CF children and families in the way that she herself needs now.\\xa0 If you don\\'t know Claire, please take a minute to Google\\xa0 her name and see some of her videos on line and on social media as well as a beautiful episode on The CWs \"My Last Days, Season 1\\xa0\" Directed by Justin Baldoni\\xa0 and Wayfarer Entertainment. ￼ CNN\\xa0 has done 2 stories covering her journey for 2 years now and will continue to cover her experience pre and post lung transplant to spread awareness about the process and what people with Cystic Fibrosis go through. Even as her lungs fail, she is still willing to share her experience in the hope of helping another young adult with CF who may be considering a lung transplant. Claire was recently named Glamour Magazine\\'s College Woman of the Year Grand Prize Winner 2018\\xa0 \\xa0for her work in advocacy and charity.\\xa0 Behind the scenes, she struggles for breath and is currently in end stage lung disease, but that is not the face she shows the world. ￼ Please, consider making a donation today so that we can relieve the stress she is feeling about not being well enough to continue working until transplant and possibly up to a year post transplant. What would be most helpful is if\\xa0 you could make a 10 - 30 second video about how you have been inspired by Claire and then share that video along with this link to your community and social media following.\\xa0 I am sure with your help, we can reach and maybe even beat this goal.\\xa0  https://www.gofundme.com/teamclaire\\xa0with hashtag #TeamClaire Thank you so much for your support!\\xa0 Please do share with followers, friends and family that you feel might be inspired to support as well. Your donations will be deposited in to a private account for Claire and used to pay her rent and expenses over the next 6 to 18 months so she can simply focus on this next huge step while she is so ill.\\xa0 Specifically travel money, hotels, medications, apartment rental pre transplant here in Los Angeles and post transplant in San Diego, food and other necessities for Claire.Warmly, #TeamClaire \"Truly honored to have lived, failed and accomplished in the ways I have\" ~ Claire WIneland ￼\\n\\nA message from Claire :)\\n\\nClaire Wineland, Keynote Speaker at Zappos All Hands Meeting 2017 \\xa0￼ ￼ \\n\\n￼Claire Wineland, Keynote Speaker at PTTOW 2016',\n",
              " \"This past summer my 23 year old sister Hanna was diagnosed with\\xa0terminal cancer - more specifically peritineal mesothelioma - which is from asbestos exposure. She had\\xa0lower abdominal pain all summer long, and just before going back to finish her final year at Covenant College in Georgia, she went for a check up at her gynocologist to check for orvarian cysts.\\xa0During a laproscopic procedure the cancer was discovered.\\xa0After meeting several oncologists, Hanna\\xa0felt strongly that she needed to pursue a natural approach to dealing with the disease. She was able to enter into the care of some of the best alternative doctors available who felt confident they could help her. And so, over the past 6 months Hanna has pursued every avenue of homeopathic treatments, traveling to doctors around the tri-state area every day of the week, sometimes two in one day. We found out two\\xa0weeks ago that the the tumors in Hanna's abdomen have grown from 3 CM to 17.5 CM - and have englufed her bladder, uterus, ovaries and affected part of her liver. It was made clear to her and my family that surgery\\xa0is required immediately.WHY WE NEED YOUR HELP:Hanna met with THE top surgeon for this type of cancer in Washington D.C. and he has an opening available to perform surgery this Thursday, March 8, 2018, before he takes a leave of absence. But, our insurance will only cover procedures within the state of New Jersey. We need to raise the funds to get this procedure done this week. We have no time to waste chasing down the insurance company. All donations will be put into the bank account of Hanna's mom - Hope, as she is sparing Hanna the financial burden\\xa0as Hanna fights for her life.\\xa0Throughout this entire experience, Hanna has remained steadfast and hopeful, which we credit to God and the immensely supportive community of friends and family who have come alongside her, prayed for her and sent notes of encouragement to Hanna. We recognize this is an incredible amount of money to try and raise in such a short amount of time, but her life depends on it. We believe that God is bigger than cancer, and that everything\\xa0is possible through Him. So, we are hoping and believing for the impossible -\\xa0and\\xa0would be so grateful for anything\\xa0you can do to help financially and by sharing this page.\",\n",
              " \"Meet Brayden Belden.On February 20, 2018 this athletic, vibrant\\xa011-year-old from Laguna Beach, CA suffered a catastrophic head injury while snowboarding with his family at Mt. Bachelor in Oregon.Brayden was air lifted from the mountain to Bend, with his parents driving in blizzard conditions to meet him at the hospital. When they arrived, they received the news no parent ever wants to hear: the injury was much more serious than initially believed, and their son might only have hours to live.For the next hour, Brayden’s life hung in the balance as doctors worked to stabilize him so that he might survive a second life flight to Randall Children’s Hospital in Portland, where the right experts and equipment could give him a fighting chance. Brayden defied the odds and was flown to Randall, where he remains in a medically induced coma in the ICU.Brayden Belden should survive, but it will be a long road back if he makes it.One of the many obstacles his family faces is the sheer cost of Brayden’s care. The Beldens are looking at over $100k in out-of-pocket expenses for the life flights alone. In addition, Brayden will eventually need to be airlifted to a hospital closer to his home in California, which could double that number. Then there are deductibles, out-of-network-fees, and the cost of food and lodging.When you add it all up, the end cost to the family will likely exceed the price of the average home in the United States.The Belden family should be concerned about one thing: getting Brayden well. We’ve created this Go Fund Me page in hopes that they can focus on his care, and not the crushing medical costs they are facing.\\xa0The Belden Family thanks you so much for your support and love. Prayer and positive energy are so powerful and much appreciated! Brayden can take all the love you can share. Knowing he has so much love has helped us, too. We are blessed to be in a community that cares so much.We'll\\xa0use this page to stay in contact and will keep you updated on his progressThank you.The Belden Family & Friends\",\n",
              " 'JAKE IS OKAY, ALERT AND RECOVERING... BUT HE NEEDS OUR SUPPORTOn Tuesday morning, June 26th, Jake along with several of his youth group students were on the second day of their annual scuba diving trip off the coast of Saudi Arabia in the Red Sea. Jake loves doing this every year and the trip is the pinnacle summer event for so many Aramco kids. Upon entering the water to begin his dive, Jake was struck by the boat\\'s propeller and suffered significant wounds to his right leg. \\xa0Jake was rushed back to port, where an ambulance took him to Jeddah for surgery.\\xa0\\xa0Unfortunately, the doctors had to remove Jake\\'s right leg above the knee. Jake is currently stable and resting. However, his journey in addressing this situation is just beginning. A long road to recovery, rehabilitation, and unforeseen medical costs lie ahead.\\xa0WHAT JAKE NEEDS FROM USJake has positively impacted so many lives. We would like to acknowledge the overwhelming support from Jake\\'s students, friends, colleagues, and Aramco. Please continue to pray for Jake\\'s full and speedy recovery. Many of you of have asked how you can help. We are thankful that Aramco is providing for Jake\\'s immediate needs while in Saudi Arabia, however accessing the best care for future surgeries, rehab, and equipment will be expensive.\\xa0ALL FUNDS RAISED GO EXCLUSIVELY TO JAKE’S MEDICAL NEEDSMost importantly, we would like to acknowledge the overwhelming support from Jake\\'s students, friends, colleagues, and Aramco. Please continue to pray for Jake\\'s full and speedy recovery.\\n\\n\\n-----------------------------------------------------------------------------------------------UPDATES|| 8/06/2018 - 1930 MST|| Jake is enjoying his recovery in Dhahran and slowly getting back to normal: spending time at the student center and getting back into a daily routine. Last weekend was a weekend of firsts. First time driving, first time in the water, and first time throwing a frisbee!\\xa0|| 7/17/2018 - 0149 GMT+2 || Jake had a great time watching the World Cup Final with his students\\xa0at\\xa0the Student Center yesterday evening. Jake continues to be active in working towards his recovery. He has been doing PT at home with his Mom and brother Caleb coaching him everyday. There have been ongoing medical appointments and things are moving in a good direction. Again, thanks for everything, ALL of the support has been nothing short of amazing!|| 7/12/2018 - 1638 MDT ||\\xa0Jake is continuing his recovery back in Dhahran. The main goal currently is to reduce the swelling in the residual limb and he has already seen some progress. He has been awarded a new and more suitable house form Aramco, which he appreciates very much! The move is still in progress, but a big shout out to all the people who have already lended a hand!\\xa0\\n\\n\\nThe food train has been an\\xa0absolute\\xa0blessing and he is\\xa0eating quite well! The best news of all is that his Mom (Robbin) and Caleb (his brother) have arrived to Saudi!|| 7/7/2018 - 2200 MDT ||\\xa0Jake is starting to feel more at home again in his community. He\\'s very happy to be back and has enjoyed catching up with a few people and slowly getting back into a more normal routine. Aramco is in the process of finding him a more suitable living arrangement as well, something that is a single-floor. Yes, he also went back today to teach his first fitness class! Here are a few pics from him driving with a colleague to look for a new place as well as him with his fitness class.\\xa0|| 7/4/2018 - 1800 MDT ||\\xa0Jake is SUPER happy to be back in Dhahran in his community! However, the heat is NO JOKE over there and forgetting your sunglasses doesn\\'t make it any easier on a 110+ degree day! (Pic below) He\\'s very happy to be back in an environment where he is familiar with the medical staff that is treating him. He is also very thankful for the meal train that has been initiated for him (link:\\xa0 https://www.mealtrain.com/trains/zv21gd\\xa0). More to come later and he\\'s still not quite ready for visitors, but thinks that next week may be the week.|| 7/3/2018 - 1000 MDT ||\\xa0Jake has safely made it back to his community in Dhahran! It\\'s amazing that he was able to move himself so early. He told me that it was pretty wild to think that he was undergoing surgery for the amputation of his leg less than 5 days ago, and he was now using crutches to move across the tarmac and board a plane! It took a tremendous amount of energy for him, so he is still resting quite a bit, but Jake is excited to start seeing everyone soon! Now that he is back in his home community, they have organized meals for him which he is beyond excited about! Pics to come later!\\xa0|| 7/2/2018 - 1400 MDT || I (Caleb) spoke with Jake earlier today and he is ON THE MOVE! He departed the hospital in Jeddah earlier today and is on the plane on the way back to Dhahran! He is SUPER excited to be back in the community and to continue this road to recovery. He asked me to share a few pictures of him on the move today. More to come soon with his updates, and I don\\'t know when he\\'ll be ready to start seeing visitors, but I know everyone is anxious to see him. I\\'ll be sure to let everyone know as soon as he feels up to it. BTW - can you believe how good he already is on crutches?!?!BTW - Yes, I realize that some of the photos are sideways :) I\\'ll eventually figure out how to get them straightened out without cropping out half of the photo!\\xa0|| 7/1/2018 - 1600 MDT || I (Caleb) spoke with Jake a few times today and he has a lot of positive news he would like to share! He has a few pictures to share as well. The first picture is of Jake cleaning himself up a bit, getting his hair washed and just\\xa0sitting\\xa0up for a while! The second is of him learning to balance\\xa0himself on crutches and moving around, a LOT! The third is of him\\xa0receiving his latest blood transfusion. Which, we have also received the results from, and his levels are stable enough now for a\\xa0short term air travel back to the hospital in Dhahran (where he lives and his community is). He is hoping to get fly there tomorrow pending any other complications! As always, he is in great spirits\\xa0despite the circumstances, and is SUPER thankful for the support. Again, huge shout out to Sarah who has not left his side and has been a tremendous advocate for Jake the last few days. Not to\\xa0mention all the of support that Aramco and all of his friends/family are\\xa0helping with behind the scenes .|| 7/1/2018 - 0400 MDT ||\\xa0\"You got to Move it Move it\" is the theme of Jake\\'s day today! He called me (Caleb) this morning to inform me that he was moving under his own power with crutches. He was able to get out of the bed and do a little bathing (which we know both Jake and Sarah were grateful for). His energy levels are much higher today than yesterday. His body has accepted both blood transfusions that they gave him over the last 30 hours, which takes a lot of time and requires very frequent monitoring making it tough for Jake to rest. He is moving more towards stability Pics to come soon!\\xa0|| 6/30/2018 - 1000 MDT || Jeremy (Jakes brother)\\xa0spoke with Jake this morning. We are all really impressed that he is up and moving! He was able to get out of his bed yesterday and got to start working on his balance. Jake said, \"It\\'s a little weird, my body has a new center of gravity now\". It was a LOT of effort for him to be up and moving yesterday. Today, he has been taking a little rest from all that work, and has his focus set clearly on catching up on all the World Cup games that he\\'s been missing! Here\\'s a photo of Jake\\'s current status.\\xa0|| 6/29/2018 - 1100 MDT || Caleb spoke with Jake this morning and he is up and moving! He has been making great progress, which none of use every doubted that he would for a second. They were able to take the catheter out this morning (which Jake is thankful for) and he is starting to move around. His spirit is unbreakable and unbelievably positive. Also, he wanted to share a few photos for everyone. He also wanted to let people know he stood up under his OWN POWER using the bars that they installed. Sarah has been a rockstar as well and there with Jake supporting him and pushing him right along into the recovery! He\\'s super thankful for everything and is doing his best to respond to messages as he has the time and energy.\\n\\n|| 6/28/2018 - 2300 MDT || Caleb spoke with Jake today and he is in great\\xa0spirits! He managed to get some good laughs in with Jake and talked about how he is doing. Jake said that the\\xa0highlight of his day was a giant bag of cherries which he devoured! He is getting his appetite back and is becoming more stable every day. He is still not in a good position to accept visitors, but we all know that with his big personality, it won\\'t be long! All of your support is appreciated and I\\'m certain that all of us together are making a big difference.|| 6/28/2018 - 0800 MDT || The family spoke with Jake this morning. He is overwhelmed by all of the\\xa0support\\xa0and expressed his thanks for all of it. He know\\'s its tough, but he asked for NO VISITORS at the current time. He is still very focused on the recovery and will advise the family when he is able to accept visitors. Thank you again for all of your support and understanding.\\xa0|| 6/27/2018 - 2300 MDT ||\\xa0Caleb (Jake\\'s brother) spoke with Jake tonight. He\\'s in great spirits and appreciates the overwhelming love and support from everyone. He is stable at the hospital in East Jeddah, Saudi Arabia. He\\'s been getting good rest and has someone with him 24/7. Please try not to overwhelm him as he\\'s resting. The family will be providing accurate updates on this page.-----------------------------------------------------------------------------------------------The family is managing the online side of this GoFundMe page. Due to the overwhelming support, it could take some time to reply or respond back to any emails sent through GoFundMe.',\n",
              " 'As some of you may already know, Victoria Gouletas, a Westport Mom, member of the Zoning Board of Appeals, and real estate attorney, was horribly injured at her home during the March 7 Nor\\'easter.\\xa0 An overhead tree snapped, fell, and crushed her.\\xa0 The tree hit her head and back, leaving her with multiple fractures in her neck, left scapula and sternum.\\xa0 Additionally, it broke her back between the T3 and T4 vertebrae, causing paralysis from the chest down. The current prognosis is that she will never walk again.Victoria retains complete mental capacity as well as the use of her head, neck and arms. Doctors have assured us that, with intense physical therapy, she can regain her daily independence and care for herself and her family, drive her children to school and return to work full time, but that her life will look “very different.\"\\xa0 \\xa0\\xa0Victoria and her husband, Troy Burk, and their children Ana (10), Tafe (9), and Zoe (2½), love living in Westport and are so touched by the outpouring of love and well wishes they have received from the community in the past few days.\\xa0\\xa0So many people want to know how they can help.\\xa0Victoria is committed to her family, her town and her career, and is fiercely determined to live a full life by regaining as much mobility as her body will allow.\\xa0She comes from a family with strong genes and, as anyone who knows her will attest, will work as hard as is humanly possible to beat the odds.\\xa0However, her recovery over the months and years ahead will be a marathon - not a sprint - and the out of pocket costs of retrofitting her life while continuing to care for her family will be immense and ongoing.\\xa0 Upcoming expenses will include a house renovation or relocation, vehicles that accommodate her limitations, ongoing nursing care, as well as supplemental child care and housekeeping services.\\xa0 Your generosity to Victoria and her family will certainly help ease their burden through this process.\\xa0\\xa0We deeply appreciate anything you can do.\\xa0\\xa0\\xa0We know Victoria can do this, and we know it will be made easier with all of your support and prayers.The Gouletas and Burk families thank you for your incredible kindness.“Most of the things worth doing in the world had been declared impossible before they were done.”\\xa0― Louis D. Brandeis',\n",
              " 'Kalea Avery, 6 years old, after experiencing several weeks of severe headache, had a brain tumor called Medulloblastoma removed on June 11, \\xa02018. \\xa0Her 4 year old brother Noah Avery started complaining of headaches 2 weeks after Kalea. \\xa0He was also diagnosed with a brain tumor and had the removal on June 25, 2018.Both Kalea and Noah will have to undergo intensive courses of both chemotherapy and radiation therapy. \\xa0The Childrens Hospital Los Angeles oncologists, the pediatric neurosurgeon , and her pediatrician have never encountered siblings having a diagnosis of brain tumor within weeks of each other.Duncan Avery, the father, is the current surf coach ( and prior boys volleyball coach) at Redondo Union High School. \\xa0Nohea Avery , the mother, is a nurse practitioner that currently works in an outpatient medical office and was a former nurse at Torrance Memorial Medical Center Intensive Care Unit.',\n",
              " 'VICTIM IDENTITY NOT LISTED FOR SECURITY REASONS as this is an ongoing investigation. Please click the news\\xa0link\\xa0for more info. ALL DONATIONS ARE GOING DIRECTLY TO THE VICTIM. http://www.wsmv.com/story/38837095/nashville-woman-shot-while-walking-dogs-search-ongoing-for-gunmenOn 8/8/18 Wednesday our friend\\xa0 was walking her two dogs in\\xa0Nashville.\\xa0\\xa0She was randomly shot in the back but was able to call 911. The bullet exited through her stomach and caused internal and spinal injuries, requiring multiple surgeries. Fortunately her injuries are not life threatening but they are life changing. \\xa0She is currently recovering in the hospital and it may be some time before we know the extent of her damages. There are accommodations and transitions needed over the next few months and perhaps years as she recovers and adjusts to a new life.We have started this campaign in hopes of raising funds for this happy music loving family. Our friend has a long recovery ahead of her with hefty medical expenses. Her husband will not be able to work for the next few months as he will be her primary caretaker. The last thing we want them to worry about is money.\\xa0Please give what you can, spread the word and help us support this wonderful family from our community. This was such a horrible random act of violence and we just want to help them as much as we can.Thank you so much for taking the time!']"
            ]
          },
          "metadata": {
            "tags": []
          },
          "execution_count": 262
        }
      ]
    },
    {
      "metadata": {
        "id": "yZdXG3ymch5U",
        "colab_type": "code",
        "colab": {}
      },
      "cell_type": "code",
      "source": [
        "def title_parser(url):\n",
        "  soup=bs(requests.get(url).text,'html.parser')\n",
        "  text = soup.findAll(class_=\"co-story truncate-text truncate-text--description js-truncate\")[0].text.strip()\n",
        "  \n",
        "  return({'text':text})"
      ],
      "execution_count": 0,
      "outputs": []
    },
    {
      "metadata": {
        "id": "6o799f1zCi9u",
        "colab_type": "code",
        "colab": {}
      },
      "cell_type": "code",
      "source": [
        "\n",
        "\n",
        "dd = defaultdict(list)\n",
        "d1 = {1: 2, 3: 4}\n",
        "d2 = {1: 6, 3: 7}\n",
        "for d in (d1, d2):\n",
        "    for key, value in d.items():\n",
        "        dd[key].append(value)"
      ],
      "execution_count": 0,
      "outputs": []
    },
    {
      "metadata": {
        "id": "rXWnSs84eifY",
        "colab_type": "code",
        "colab": {}
      },
      "cell_type": "code",
      "source": [
        "d3 = {1:8,3:9}\n",
        "for key,value in d3.items():\n",
        "  dd[key].append(value)"
      ],
      "execution_count": 0,
      "outputs": []
    },
    {
      "metadata": {
        "id": "9NBc7Np-emzU",
        "colab_type": "code",
        "colab": {
          "base_uri": "https://localhost:8080/",
          "height": 34
        },
        "outputId": "a48e7ed4-b5b2-44f2-b473-33e3fac93ad3"
      },
      "cell_type": "code",
      "source": [
        "dd"
      ],
      "execution_count": 245,
      "outputs": [
        {
          "output_type": "execute_result",
          "data": {
            "text/plain": [
              "defaultdict(list, {1: [2, 6, 8], 3: [4, 7, 9]})"
            ]
          },
          "metadata": {
            "tags": []
          },
          "execution_count": 245
        }
      ]
    },
    {
      "metadata": {
        "id": "X6hWFYgUSklC",
        "colab_type": "code",
        "colab": {}
      },
      "cell_type": "code",
      "source": [
        "url = 'https://www.gofundme.com/kdafoos-cancer'\n",
        "soup = bs(requests.get(url).text,'html.parser')"
      ],
      "execution_count": 0,
      "outputs": []
    },
    {
      "metadata": {
        "id": "fiK7SegjQyDj",
        "colab_type": "code",
        "colab": {
          "base_uri": "https://localhost:8080/",
          "height": 54
        },
        "outputId": "5a8186f3-fe0f-4200-e150-564a71672c13"
      },
      "cell_type": "code",
      "source": [
        "soup.findAll(class_=\"co-story truncate-text truncate-text--description js-truncate\")[0].text.strip()"
      ],
      "execution_count": 221,
      "outputs": [
        {
          "output_type": "execute_result",
          "data": {
            "text/plain": [
              "'I’vee been fighting cancer for the past 5 years and it’s going nowhere anymore. The fund i need is for a trial treatment. I need to survive for my wife, 4 years old son and the society.\\xa0Due to withdrawal guidelines, my Power of Attorney, Cameron McHugh, will be withdrawing the funds on my behalf'"
            ]
          },
          "metadata": {
            "tags": []
          },
          "execution_count": 221
        }
      ]
    },
    {
      "metadata": {
        "id": "m5EJ6U4EcaTA",
        "colab_type": "code",
        "colab": {
          "base_uri": "https://localhost:8080/",
          "height": 54
        },
        "outputId": "27611924-d093-4478-c31b-06c7c37928c4"
      },
      "cell_type": "code",
      "source": [
        "title_parser(url)['text']"
      ],
      "execution_count": 228,
      "outputs": [
        {
          "output_type": "execute_result",
          "data": {
            "text/plain": [
              "'I’vee been fighting cancer for the past 5 years and it’s going nowhere anymore. The fund i need is for a trial treatment. I need to survive for my wife, 4 years old son and the society.\\xa0Due to withdrawal guidelines, my Power of Attorney, Cameron McHugh, will be withdrawing the funds on my behalf'"
            ]
          },
          "metadata": {
            "tags": []
          },
          "execution_count": 228
        }
      ]
    }
  ]
}