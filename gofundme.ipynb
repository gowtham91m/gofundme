{
  "nbformat": 4,
  "nbformat_minor": 0,
  "metadata": {
    "colab": {
      "name": "gofundme.ipynb",
      "version": "0.3.2",
      "provenance": [],
      "collapsed_sections": [],
      "include_colab_link": true
    },
    "kernelspec": {
      "name": "python3",
      "display_name": "Python 3"
    }
  },
  "cells": [
    {
      "cell_type": "markdown",
      "metadata": {
        "id": "view-in-github",
        "colab_type": "text"
      },
      "source": [
        "[View in Colaboratory](https://colab.research.google.com/github/gowtham91m/gofundme/blob/master/gofundme.ipynb)"
      ]
    },
    {
      "metadata": {
        "id": "vbaSOpKwj4uK",
        "colab_type": "code",
        "colab": {}
      },
      "cell_type": "code",
      "source": [
        "%%capture\n",
        "!pip install \"requests[security]\""
      ],
      "execution_count": 0,
      "outputs": []
    },
    {
      "metadata": {
        "id": "oPt84Wphrm3y",
        "colab_type": "code",
        "colab": {}
      },
      "cell_type": "code",
      "source": [
        "from bs4 import BeautifulSoup as bs\n",
        "import requests\n",
        "from IPython.display import display, clear_output\n",
        "import re\n",
        "import pandas as pd\n",
        "from time import time\n",
        "from collections import defaultdict"
      ],
      "execution_count": 0,
      "outputs": []
    },
    {
      "metadata": {
        "id": "u32P_SRW_TdU",
        "colab_type": "code",
        "colab": {}
      },
      "cell_type": "code",
      "source": [
        "# all categories and the cid\n",
        "class web_scraper:\n",
        "  def __init__(self,url):\n",
        "    self.url = url\n",
        "    \n",
        "  def get_categories(self):\n",
        "    soup = requests.get(url)\n",
        "    soup = bs(soup.text,'html.parser')\n",
        "    category = soup.findAll(class_='text-black')\n",
        "    categories = [i.text for i in category]  \n",
        "    return categories[:1] #16\n",
        "  \n",
        "  def details_parser(self,url):\n",
        "    try:\n",
        "      soup=bs(requests.get(url).text,'html.parser')\n",
        "      text = soup.findAll(class_=\"co-story truncate-text truncate-text--description js-truncate\")[0].text.strip()\n",
        "    except:\n",
        "      text = 'exception occured for' + url\n",
        "    return({'text':text})\n",
        "  \n",
        "  def scrape(self):\n",
        "    df = pd.DataFrame({})\n",
        "    for i in self.get_categories():\n",
        "      print(i,end='  ')\n",
        "      i='-'.join(i.split(' '))\n",
        "      i = 'animal' if i == 'Animals' else i\n",
        "      url = 'https://www.gofundme.com/discover/'+i+'-fundraiser'\n",
        "      soup = bs(requests.get(url).text,'html.parser')\n",
        "      cid = re.findall('\\d+',re.findall('cid=\\'\\s\\+\\s\\'\\d+', soup.find_all('script')[13].text)[0])[0]\n",
        "      Resp,page = True,1\n",
        "      while Resp:\n",
        "        url = 'https://www.gofundme.com/mvc.php?route=categorypages/load_more&page='+str(page)+'&term=&cid='+cid\n",
        "        soup = requests.get(url)\n",
        "        soup = bs(soup.text, 'html.parser')\n",
        "        if len(soup) <1: Resp =False\n",
        "        name = [ hit.text  for hit in soup.findAll(attrs={'class' : 'fund-title truncate-single-line show-for-medium'})]\n",
        "        href = [i['href'] for i in soup.findAll('a',attrs={'class':'campaign-tile-img--contain'})]\n",
        "        location = [i.text[1:-1] for i in soup.findAll(class_='fund-item fund-location truncate-single-line')]\n",
        "        raised = [i.findAll('strong')[0].text[:-7] for i in soup.findAll(class_=\"fund-item truncate-single-line\")]\n",
        "        goal = [re.findall('\\$\\d+\\,\\d+',i.text)[1] for i in soup.findAll(class_=\"fund-item truncate-single-line\")]\n",
        "        \n",
        "        details =defaultdict(list)\n",
        "        for link in soup.findAll('a',attrs={'class':'campaign-tile-img--contain'}):\n",
        "          for key, value in self.details_parser(link['href']).items():\n",
        "            details[key].append(value)\n",
        "        \n",
        "        df = df.append(pd.DataFrame({'category':[i]*len(name),\n",
        "                                     'name':name,\n",
        "                                     'href':href,\n",
        "                                     'location':location, \n",
        "                                     'raised':raised,\n",
        "                                     'goal':goal,\n",
        "                                     'text':details['text']}))\n",
        "        if (page%10==0):print(page,end=' ')\n",
        "        page+=1\n",
        "      print('\\n')\n",
        "    clear_output()\n",
        "    columns = ['category','name','href','location','raised','goal','text']\n",
        "    return df[columns]"
      ],
      "execution_count": 0,
      "outputs": []
    },
    {
      "metadata": {
        "id": "SJJKVfxSGPIZ",
        "colab_type": "code",
        "colab": {
          "base_uri": "https://localhost:8080/",
          "height": 34
        },
        "outputId": "3f22f7bb-e465-4baa-9221-deaf606fe232"
      },
      "cell_type": "code",
      "source": [
        "url = 'https://www.gofundme.com/discover'\n",
        "start_time = time()\n",
        "df = web_scraper(url).scrape()\n",
        "print((time()-start_time)/60)"
      ],
      "execution_count": 282,
      "outputs": [
        {
          "output_type": "stream",
          "text": [
            "7.8066372315088906\n"
          ],
          "name": "stdout"
        }
      ]
    },
    {
      "metadata": {
        "id": "jmcUxwBG-IU0",
        "colab_type": "code",
        "colab": {}
      },
      "cell_type": "code",
      "source": [
        "#df.head()"
      ],
      "execution_count": 0,
      "outputs": []
    },
    {
      "metadata": {
        "id": "kfR5EzFrGeiq",
        "colab_type": "code",
        "colab": {}
      },
      "cell_type": "code",
      "source": [
        ""
      ],
      "execution_count": 0,
      "outputs": []
    }
  ]
}