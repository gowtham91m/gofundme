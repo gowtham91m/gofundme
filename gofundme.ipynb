{
  "nbformat": 4,
  "nbformat_minor": 0,
  "metadata": {
    "colab": {
      "name": "gofundme.ipynb",
      "version": "0.3.2",
      "provenance": [],
      "collapsed_sections": [],
      "include_colab_link": true
    },
    "kernelspec": {
      "name": "python3",
      "display_name": "Python 3"
    }
  },
  "cells": [
    {
      "cell_type": "markdown",
      "metadata": {
        "id": "view-in-github",
        "colab_type": "text"
      },
      "source": [
        "[View in Colaboratory](https://colab.research.google.com/github/gowtham91m/gofundme/blob/master/gofundme.ipynb)"
      ]
    },
    {
      "metadata": {
        "id": "vbaSOpKwj4uK",
        "colab_type": "code",
        "colab": {}
      },
      "cell_type": "code",
      "source": [
        "%%capture\n",
        "!pip install \"requests[security]\""
      ],
      "execution_count": 0,
      "outputs": []
    },
    {
      "metadata": {
        "id": "oPt84Wphrm3y",
        "colab_type": "code",
        "colab": {}
      },
      "cell_type": "code",
      "source": [
        "from bs4 import BeautifulSoup as bs\n",
        "import requests\n",
        "from IPython.display import display, clear_output\n",
        "import re\n",
        "import pandas as pd\n",
        "from time import time\n",
        "from collections import defaultdict"
      ],
      "execution_count": 0,
      "outputs": []
    },
    {
      "metadata": {
        "id": "u32P_SRW_TdU",
        "colab_type": "code",
        "colab": {}
      },
      "cell_type": "code",
      "source": [
        "# all categories and the cid\n",
        "class web_scraper:\n",
        "  def __init__(self,url):\n",
        "    self.url = url\n",
        "    \n",
        "  def get_categories(self):\n",
        "    soup = requests.get(url)\n",
        "    soup = bs(soup.text,'html.parser')\n",
        "    category = soup.findAll(class_='text-black')\n",
        "    categories = [i.text for i in category]  \n",
        "    return categories[:1] #16\n",
        "  \n",
        "  def details_parser(self,url):\n",
        "    try:\n",
        "      soup=bs(requests.get(url).text,'html.parser')\n",
        "      text = soup.findAll(class_=\"co-story truncate-text truncate-text--description js-truncate\")[0].text.strip()\n",
        "    except:\n",
        "      text = 'exception occured for' + url\n",
        "    return({'text':text})\n",
        "  \n",
        "  def scrape(self):\n",
        "    df = pd.DataFrame({})\n",
        "    for i in self.get_categories():\n",
        "      print(i,end='  ')\n",
        "      i='-'.join(i.split(' '))\n",
        "      i = 'animal' if i == 'Animals' else i\n",
        "      url = 'https://www.gofundme.com/discover/'+i+'-fundraiser'\n",
        "      soup = bs(requests.get(url).text,'html.parser')\n",
        "      cid = re.findall('\\d+',re.findall('cid=\\'\\s\\+\\s\\'\\d+', soup.find_all('script')[13].text)[0])[0]\n",
        "      Resp,page = True,1\n",
        "      while Resp:\n",
        "        url = 'https://www.gofundme.com/mvc.php?route=categorypages/load_more&page='+str(page)+'&term=&cid='+cid\n",
        "        soup = requests.get(url)\n",
        "        soup = bs(soup.text, 'html.parser')\n",
        "        if len(soup) <1: Resp =False\n",
        "        name = [ hit.text  for hit in soup.findAll(attrs={'class' : 'fund-title truncate-single-line show-for-medium'})]\n",
        "        href = [i['href'] for i in soup.findAll('a',attrs={'class':'campaign-tile-img--contain'})]\n",
        "        location = [i.text[1:-1] for i in soup.findAll(class_='fund-item fund-location truncate-single-line')]\n",
        "        raised = [i.findAll('strong')[0].text[:-7] for i in soup.findAll(class_=\"fund-item truncate-single-line\")]\n",
        "        goal = [re.findall('\\$\\d+\\,\\d+',i.text)[1] for i in soup.findAll(class_=\"fund-item truncate-single-line\")]\n",
        "        \n",
        "        #details = [self.details_parser(i['href']) for i in soup.findAll('a',attrs={'class':'campaign-tile-img--contain'})]\n",
        "        details =defaultdict(list)\n",
        "        for i in soup.findAll('a',attrs={'class':'campaign-tile-img--contain'}):\n",
        "          for key, value in self.details_parser(i['href']).items():\n",
        "            details[key].append(value)\n",
        "        \n",
        "        df = df.append(pd.DataFrame({'category':[i]*len(name),\n",
        "                                     'name':name,\n",
        "                                     'href':href,\n",
        "                                     'location':location, \n",
        "                                     'raised':raised,\n",
        "                                     'goal':goal,\n",
        "                                     'text':details['text']}))\n",
        "        if (page%10==0):print(page,end=' ')\n",
        "        page+=1\n",
        "      print('\\n')\n",
        "    clear_output()\n",
        "    columns = ['category','name','href','location','raised','goal']\n",
        "    return df[columns]"
      ],
      "execution_count": 0,
      "outputs": []
    },
    {
      "metadata": {
        "id": "SJJKVfxSGPIZ",
        "colab_type": "code",
        "colab": {
          "base_uri": "https://localhost:8080/",
          "height": 34
        },
        "outputId": "b2f69629-b583-4ce8-9e39-f09ee8e31ebf"
      },
      "cell_type": "code",
      "source": [
        "url = 'https://www.gofundme.com/discover'\n",
        "start_time = time()\n",
        "df = web_scraper(url).scrape()\n",
        "print((time()-start_time)/60)"
      ],
      "execution_count": 0,
      "outputs": [
        {
          "output_type": "stream",
          "text": [
            "Medical  "
          ],
          "name": "stdout"
        }
      ]
    },
    {
      "metadata": {
        "id": "jmcUxwBG-IU0",
        "colab_type": "code",
        "colab": {
          "base_uri": "https://localhost:8080/",
          "height": 201
        },
        "outputId": "21dc6af8-cc8c-4df2-ddcf-64f304139d9a"
      },
      "cell_type": "code",
      "source": [
        "df.head()"
      ],
      "execution_count": 200,
      "outputs": [
        {
          "output_type": "execute_result",
          "data": {
            "text/html": [
              "<div>\n",
              "<style scoped>\n",
              "    .dataframe tbody tr th:only-of-type {\n",
              "        vertical-align: middle;\n",
              "    }\n",
              "\n",
              "    .dataframe tbody tr th {\n",
              "        vertical-align: top;\n",
              "    }\n",
              "\n",
              "    .dataframe thead th {\n",
              "        text-align: right;\n",
              "    }\n",
              "</style>\n",
              "<table border=\"1\" class=\"dataframe\">\n",
              "  <thead>\n",
              "    <tr style=\"text-align: right;\">\n",
              "      <th></th>\n",
              "      <th>category</th>\n",
              "      <th>name</th>\n",
              "      <th>href</th>\n",
              "      <th>location</th>\n",
              "      <th>raised</th>\n",
              "      <th>goal</th>\n",
              "    </tr>\n",
              "  </thead>\n",
              "  <tbody>\n",
              "    <tr>\n",
              "      <th>0</th>\n",
              "      <td>Medical</td>\n",
              "      <td>Kdafoos ... Cancer ...</td>\n",
              "      <td>https://www.gofundme.com/kdafoos-cancer</td>\n",
              "      <td>Houston, TX</td>\n",
              "      <td>$676,152</td>\n",
              "      <td>$500,000</td>\n",
              "    </tr>\n",
              "    <tr>\n",
              "      <th>1</th>\n",
              "      <td>Medical</td>\n",
              "      <td>92 Yr old Man Brutally Attacked.</td>\n",
              "      <td>https://www.gofundme.com/3ctqm-medical-bills-f...</td>\n",
              "      <td>Los Angeles, CA</td>\n",
              "      <td>$327,345</td>\n",
              "      <td>$15,000</td>\n",
              "    </tr>\n",
              "    <tr>\n",
              "      <th>2</th>\n",
              "      <td>Medical</td>\n",
              "      <td>Olivia Stoy:Transplant &amp; Liv it up!</td>\n",
              "      <td>https://www.gofundme.com/olivia-stoy-bone-marr...</td>\n",
              "      <td>Ashley, IN</td>\n",
              "      <td>$315,726</td>\n",
              "      <td>$315,726</td>\n",
              "    </tr>\n",
              "    <tr>\n",
              "      <th>3</th>\n",
              "      <td>Medical</td>\n",
              "      <td>AUTOLOGOUS T CELL TRANSPLANT</td>\n",
              "      <td>https://www.gofundme.com/autologous-Tcell-Tran...</td>\n",
              "      <td>Staten Island, NY</td>\n",
              "      <td>$241,105</td>\n",
              "      <td>$250,000</td>\n",
              "    </tr>\n",
              "    <tr>\n",
              "      <th>4</th>\n",
              "      <td>Medical</td>\n",
              "      <td>A chance of rebirth</td>\n",
              "      <td>https://www.gofundme.com/a-chance-of-rebirth</td>\n",
              "      <td>Dublin, CA</td>\n",
              "      <td>$237,329</td>\n",
              "      <td>$225,000</td>\n",
              "    </tr>\n",
              "  </tbody>\n",
              "</table>\n",
              "</div>"
            ],
            "text/plain": [
              "  category                                 name  \\\n",
              "0  Medical               Kdafoos ... Cancer ...   \n",
              "1  Medical     92 Yr old Man Brutally Attacked.   \n",
              "2  Medical  Olivia Stoy:Transplant & Liv it up!   \n",
              "3  Medical         AUTOLOGOUS T CELL TRANSPLANT   \n",
              "4  Medical                  A chance of rebirth   \n",
              "\n",
              "                                                href           location  \\\n",
              "0            https://www.gofundme.com/kdafoos-cancer        Houston, TX   \n",
              "1  https://www.gofundme.com/3ctqm-medical-bills-f...    Los Angeles, CA   \n",
              "2  https://www.gofundme.com/olivia-stoy-bone-marr...         Ashley, IN   \n",
              "3  https://www.gofundme.com/autologous-Tcell-Tran...  Staten Island, NY   \n",
              "4       https://www.gofundme.com/a-chance-of-rebirth         Dublin, CA   \n",
              "\n",
              "     raised      goal  \n",
              "0  $676,152  $500,000  \n",
              "1  $327,345   $15,000  \n",
              "2  $315,726  $315,726  \n",
              "3  $241,105  $250,000  \n",
              "4  $237,329  $225,000  "
            ]
          },
          "metadata": {
            "tags": []
          },
          "execution_count": 200
        }
      ]
    },
    {
      "metadata": {
        "id": "kfR5EzFrGeiq",
        "colab_type": "code",
        "colab": {}
      },
      "cell_type": "code",
      "source": [
        ""
      ],
      "execution_count": 0,
      "outputs": []
    },
    {
      "metadata": {
        "id": "6w_JLRA8Sc8u",
        "colab_type": "code",
        "colab": {}
      },
      "cell_type": "code",
      "source": [
        "#url = 'https://www.gofundme.com/discover/medical-fundraiser'\n",
        "url = 'https://www.gofundme.com/mvc.php?route=categorypages/load_more&page=1&term=&cid=11'\n",
        "#url = 'https://www.gofundme.com/kdafoos-cancer'\n",
        "soup = bs(requests.get(url).text,'html.parser')"
      ],
      "execution_count": 0,
      "outputs": []
    },
    {
      "metadata": {
        "id": "btDWy-UD97ql",
        "colab_type": "code",
        "colab": {}
      },
      "cell_type": "code",
      "source": [
        "\n",
        "def title_parser(url):\n",
        "  soup=bs(requests.get(url).text,'html.parser')\n",
        "  text = soup.findAll(class_=\"co-story truncate-text truncate-text--description js-truncate\")[0].text.strip()\n",
        "  \n",
        "  return({'text':text})\n",
        "\n",
        "details =defaultdict(list)\n",
        "for i in soup.findAll('a',attrs={'class':'campaign-tile-img--contain'}):\n",
        "  for key, value in title_parser(i['href']).items():\n",
        "    details[key].append(value)"
      ],
      "execution_count": 0,
      "outputs": []
    },
    {
      "metadata": {
        "id": "p_-Xy-7Oh5p1",
        "colab_type": "code",
        "colab": {}
      },
      "cell_type": "code",
      "source": [
        ""
      ],
      "execution_count": 0,
      "outputs": []
    },
    {
      "metadata": {
        "id": "yZdXG3ymch5U",
        "colab_type": "code",
        "colab": {}
      },
      "cell_type": "code",
      "source": [
        ""
      ],
      "execution_count": 0,
      "outputs": []
    },
    {
      "metadata": {
        "id": "6o799f1zCi9u",
        "colab_type": "code",
        "colab": {}
      },
      "cell_type": "code",
      "source": [
        ""
      ],
      "execution_count": 0,
      "outputs": []
    },
    {
      "metadata": {
        "id": "rXWnSs84eifY",
        "colab_type": "code",
        "colab": {}
      },
      "cell_type": "code",
      "source": [
        ""
      ],
      "execution_count": 0,
      "outputs": []
    }
  ]
}